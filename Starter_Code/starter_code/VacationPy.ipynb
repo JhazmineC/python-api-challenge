{
 "cells": [
  {
   "cell_type": "markdown",
   "metadata": {},
   "source": [
    "# VacationPy\n",
    "---\n",
    "\n",
    "## Starter Code to Import Libraries and Load the Weather and Coordinates Data"
   ]
  },
  {
   "cell_type": "code",
   "execution_count": 23,
   "metadata": {},
   "outputs": [],
   "source": [
    "# Dependencies and Setup\n",
    "import hvplot.pandas\n",
    "import pandas as pd\n",
    "import requests\n",
    "import json\n",
    "\n",
    "# Import API key\n",
    "from api_keys import geoapify_key"
   ]
  },
  {
   "cell_type": "code",
   "execution_count": 24,
   "metadata": {},
   "outputs": [
    {
     "data": {
      "text/html": [
       "<div>\n",
       "<style scoped>\n",
       "    .dataframe tbody tr th:only-of-type {\n",
       "        vertical-align: middle;\n",
       "    }\n",
       "\n",
       "    .dataframe tbody tr th {\n",
       "        vertical-align: top;\n",
       "    }\n",
       "\n",
       "    .dataframe thead th {\n",
       "        text-align: right;\n",
       "    }\n",
       "</style>\n",
       "<table border=\"1\" class=\"dataframe\">\n",
       "  <thead>\n",
       "    <tr style=\"text-align: right;\">\n",
       "      <th></th>\n",
       "      <th>City_ID</th>\n",
       "      <th>City</th>\n",
       "      <th>Lat</th>\n",
       "      <th>Lng</th>\n",
       "      <th>Max Temp</th>\n",
       "      <th>Humidity</th>\n",
       "      <th>Cloudiness</th>\n",
       "      <th>Wind Speed</th>\n",
       "      <th>Country</th>\n",
       "      <th>Date</th>\n",
       "    </tr>\n",
       "  </thead>\n",
       "  <tbody>\n",
       "    <tr>\n",
       "      <th>0</th>\n",
       "      <td>0</td>\n",
       "      <td>kapaa</td>\n",
       "      <td>22.0752</td>\n",
       "      <td>-159.3190</td>\n",
       "      <td>299.14</td>\n",
       "      <td>85</td>\n",
       "      <td>75</td>\n",
       "      <td>7.20</td>\n",
       "      <td>US</td>\n",
       "      <td>1675743359</td>\n",
       "    </tr>\n",
       "    <tr>\n",
       "      <th>1</th>\n",
       "      <td>1</td>\n",
       "      <td>alofi</td>\n",
       "      <td>-19.0595</td>\n",
       "      <td>-169.9187</td>\n",
       "      <td>303.09</td>\n",
       "      <td>70</td>\n",
       "      <td>40</td>\n",
       "      <td>4.12</td>\n",
       "      <td>NU</td>\n",
       "      <td>1675743487</td>\n",
       "    </tr>\n",
       "    <tr>\n",
       "      <th>2</th>\n",
       "      <td>2</td>\n",
       "      <td>port alfred</td>\n",
       "      <td>-33.5906</td>\n",
       "      <td>26.8910</td>\n",
       "      <td>296.03</td>\n",
       "      <td>77</td>\n",
       "      <td>100</td>\n",
       "      <td>3.58</td>\n",
       "      <td>ZA</td>\n",
       "      <td>1675743109</td>\n",
       "    </tr>\n",
       "    <tr>\n",
       "      <th>3</th>\n",
       "      <td>3</td>\n",
       "      <td>bluff</td>\n",
       "      <td>-46.6000</td>\n",
       "      <td>168.3333</td>\n",
       "      <td>289.71</td>\n",
       "      <td>68</td>\n",
       "      <td>63</td>\n",
       "      <td>13.29</td>\n",
       "      <td>NZ</td>\n",
       "      <td>1675743413</td>\n",
       "    </tr>\n",
       "    <tr>\n",
       "      <th>4</th>\n",
       "      <td>4</td>\n",
       "      <td>morondava</td>\n",
       "      <td>-20.2833</td>\n",
       "      <td>44.2833</td>\n",
       "      <td>298.43</td>\n",
       "      <td>84</td>\n",
       "      <td>99</td>\n",
       "      <td>6.82</td>\n",
       "      <td>MG</td>\n",
       "      <td>1675743724</td>\n",
       "    </tr>\n",
       "  </tbody>\n",
       "</table>\n",
       "</div>"
      ],
      "text/plain": [
       "   City_ID         City      Lat       Lng  Max Temp  Humidity  Cloudiness  \\\n",
       "0        0        kapaa  22.0752 -159.3190    299.14        85          75   \n",
       "1        1        alofi -19.0595 -169.9187    303.09        70          40   \n",
       "2        2  port alfred -33.5906   26.8910    296.03        77         100   \n",
       "3        3        bluff -46.6000  168.3333    289.71        68          63   \n",
       "4        4    morondava -20.2833   44.2833    298.43        84          99   \n",
       "\n",
       "   Wind Speed Country        Date  \n",
       "0        7.20      US  1675743359  \n",
       "1        4.12      NU  1675743487  \n",
       "2        3.58      ZA  1675743109  \n",
       "3       13.29      NZ  1675743413  \n",
       "4        6.82      MG  1675743724  "
      ]
     },
     "execution_count": 24,
     "metadata": {},
     "output_type": "execute_result"
    }
   ],
   "source": [
    "# Load the CSV file created in Part 1 into a Pandas DataFrame\n",
    "city_data_df = pd.read_csv(\"../output_data/cities.csv\", encoding= \"utf-8\")\n",
    "\n",
    "# Display sample data\n",
    "city_data_df.head()"
   ]
  },
  {
   "cell_type": "markdown",
   "metadata": {},
   "source": [
    "---\n",
    "\n",
    "### Step 1: Create a map that displays a point for every city in the `city_data_df` DataFrame. The size of the point should be the humidity in each city."
   ]
  },
  {
   "cell_type": "code",
   "execution_count": 25,
   "metadata": {},
   "outputs": [
    {
     "data": {},
     "metadata": {},
     "output_type": "display_data"
    },
    {
     "data": {
      "application/vnd.holoviews_exec.v0+json": "",
      "text/html": [
       "<div id='1949'>\n",
       "  <div class=\"bk-root\" id=\"2258329b-796c-43ab-939d-3964d5e02912\" data-root-id=\"1949\"></div>\n",
       "</div>\n",
       "<script type=\"application/javascript\">(function(root) {\n",
       "  function embed_document(root) {\n",
       "    var docs_json = {\"0a2124a1-5f5d-446e-860d-168b60607b1e\":{\"defs\":[{\"extends\":null,\"module\":null,\"name\":\"ReactiveHTML1\",\"overrides\":[],\"properties\":[]},{\"extends\":null,\"module\":null,\"name\":\"FlexBox1\",\"overrides\":[],\"properties\":[{\"default\":\"flex-start\",\"kind\":null,\"name\":\"align_content\"},{\"default\":\"flex-start\",\"kind\":null,\"name\":\"align_items\"},{\"default\":\"row\",\"kind\":null,\"name\":\"flex_direction\"},{\"default\":\"wrap\",\"kind\":null,\"name\":\"flex_wrap\"},{\"default\":\"flex-start\",\"kind\":null,\"name\":\"justify_content\"}]},{\"extends\":null,\"module\":null,\"name\":\"GridStack1\",\"overrides\":[],\"properties\":[{\"default\":\"warn\",\"kind\":null,\"name\":\"mode\"},{\"default\":null,\"kind\":null,\"name\":\"ncols\"},{\"default\":null,\"kind\":null,\"name\":\"nrows\"},{\"default\":true,\"kind\":null,\"name\":\"allow_resize\"},{\"default\":true,\"kind\":null,\"name\":\"allow_drag\"},{\"default\":[],\"kind\":null,\"name\":\"state\"}]},{\"extends\":null,\"module\":null,\"name\":\"click1\",\"overrides\":[],\"properties\":[{\"default\":\"\",\"kind\":null,\"name\":\"terminal_output\"},{\"default\":\"\",\"kind\":null,\"name\":\"debug_name\"},{\"default\":0,\"kind\":null,\"name\":\"clears\"}]},{\"extends\":null,\"module\":null,\"name\":\"NotificationAreaBase1\",\"overrides\":[],\"properties\":[{\"default\":\"bottom-right\",\"kind\":null,\"name\":\"position\"},{\"default\":0,\"kind\":null,\"name\":\"_clear\"}]},{\"extends\":null,\"module\":null,\"name\":\"NotificationArea1\",\"overrides\":[],\"properties\":[{\"default\":[],\"kind\":null,\"name\":\"notifications\"},{\"default\":\"bottom-right\",\"kind\":null,\"name\":\"position\"},{\"default\":0,\"kind\":null,\"name\":\"_clear\"},{\"default\":[{\"background\":\"#ffc107\",\"icon\":{\"className\":\"fas fa-exclamation-triangle\",\"color\":\"white\",\"tagName\":\"i\"},\"type\":\"warning\"},{\"background\":\"#007bff\",\"icon\":{\"className\":\"fas fa-info-circle\",\"color\":\"white\",\"tagName\":\"i\"},\"type\":\"info\"}],\"kind\":null,\"name\":\"types\"}]},{\"extends\":null,\"module\":null,\"name\":\"Notification\",\"overrides\":[],\"properties\":[{\"default\":null,\"kind\":null,\"name\":\"background\"},{\"default\":3000,\"kind\":null,\"name\":\"duration\"},{\"default\":null,\"kind\":null,\"name\":\"icon\"},{\"default\":\"\",\"kind\":null,\"name\":\"message\"},{\"default\":null,\"kind\":null,\"name\":\"notification_type\"},{\"default\":false,\"kind\":null,\"name\":\"_destroyed\"}]},{\"extends\":null,\"module\":null,\"name\":\"TemplateActions1\",\"overrides\":[],\"properties\":[{\"default\":0,\"kind\":null,\"name\":\"open_modal\"},{\"default\":0,\"kind\":null,\"name\":\"close_modal\"}]},{\"extends\":null,\"module\":null,\"name\":\"MaterialTemplateActions1\",\"overrides\":[],\"properties\":[{\"default\":0,\"kind\":null,\"name\":\"open_modal\"},{\"default\":0,\"kind\":null,\"name\":\"close_modal\"}]}],\"roots\":{\"references\":[{\"attributes\":{\"axis_label\":\"y\",\"coordinates\":null,\"formatter\":{\"id\":\"1997\"},\"group\":null,\"major_label_policy\":{\"id\":\"2007\"},\"ticker\":{\"id\":\"1996\"}},\"id\":\"1975\",\"type\":\"LinearAxis\"},{\"attributes\":{},\"id\":\"1979\",\"type\":\"SaveTool\"},{\"attributes\":{\"click_policy\":\"mute\",\"coordinates\":null,\"group\":null,\"items\":[{\"id\":\"2043\"}],\"location\":[0,0]},\"id\":\"2042\",\"type\":\"Legend\"},{\"attributes\":{},\"id\":\"1980\",\"type\":\"PanTool\"},{\"attributes\":{\"margin\":[5,5,5,5],\"name\":\"HSpacer02573\",\"sizing_mode\":\"stretch_width\"},\"id\":\"2052\",\"type\":\"Spacer\"},{\"attributes\":{\"fill_color\":{\"field\":\"color\",\"transform\":{\"id\":\"2025\"}},\"hatch_color\":{\"field\":\"color\",\"transform\":{\"id\":\"2025\"}},\"line_color\":{\"field\":\"color\",\"transform\":{\"id\":\"2025\"}},\"size\":{\"field\":\"size\"},\"x\":{\"field\":\"Lng\"},\"y\":{\"field\":\"Lat\"}},\"id\":\"2032\",\"type\":\"Scatter\"},{\"attributes\":{\"attribution\":\"&copy; <a href=\\\"https://www.openstreetmap.org/copyright\\\">OpenStreetMap</a> contributors\",\"url\":\"https://c.tile.openstreetmap.org/{Z}/{X}/{Y}.png\"},\"id\":\"2020\",\"type\":\"WMTSTileSource\"},{\"attributes\":{\"end\":22980663.5517101,\"min_interval\":5,\"reset_end\":22980663.5517101,\"reset_start\":-15817020.512514628,\"start\":-15817020.512514628,\"tags\":[[[\"Lat\",\"Lat\",null]]]},\"id\":\"1956\",\"type\":\"Range1d\"},{\"attributes\":{\"end\":23286959.40034433,\"min_interval\":5,\"reset_end\":23286959.40034433,\"reset_start\":-23270261.476725336,\"start\":-23270261.476725336,\"tags\":[[[\"Lng\",\"Lng\",null]]]},\"id\":\"1955\",\"type\":\"Range1d\"},{\"attributes\":{},\"id\":\"1967\",\"type\":\"LinearScale\"},{\"attributes\":{\"data\":{\"City\":[\"kapaa\",\"alofi\",\"port alfred\",\"bluff\",\"morondava\",\"geraldton\",\"flinders\",\"saint george\",\"bambous virieux\",\"castro\",\"saskylakh\",\"mataura\",\"airai\",\"rikitea\",\"pangnirtung\",\"isangel\",\"kemijarvi\",\"fortuna\",\"san quintin\",\"kieta\",\"hami\",\"ushuaia\",\"arraial do cabo\",\"clyde river\",\"bredasdorp\",\"jequitinhonha\",\"arys\",\"bethel\",\"avera\",\"namatanai\",\"kupang\",\"aksarka\",\"ribeira grande\",\"longyearbyen\",\"erenhot\",\"thompson\",\"albany\",\"ahipara\",\"marawi\",\"atuona\",\"esperance\",\"mayya\",\"adilabad\",\"sapa\",\"east london\",\"lebu\",\"garissa\",\"miri\",\"ixtapa\",\"puerto ayora\",\"solnechnyy\",\"don sak\",\"aksu\",\"new norfolk\",\"lukovetskiy\",\"port elizabeth\",\"ust-tsilma\",\"hervey bay\",\"alta floresta\",\"mokhsogollokh\",\"liverpool\",\"dikson\",\"port hardy\",\"katsuura\",\"tuktoyaktuk\",\"svay rieng\",\"cape town\",\"baijiantan\",\"yellowknife\",\"hudson bay\",\"bathsheba\",\"coihaique\",\"hasaki\",\"sinnamary\",\"ascension\",\"los llanos de aridane\",\"saint-augustin\",\"severnyy\",\"jiangkou\",\"sisimiut\",\"taoudenni\",\"vaini\",\"mount gambier\",\"san patricio\",\"alexandria\",\"teya\",\"jamestown\",\"adamovka\",\"hilo\",\"xuddur\",\"souillac\",\"cabo san lucas\",\"asau\",\"norman wells\",\"zyryanka\",\"seydi\",\"esso\",\"kahului\",\"pamekasan\",\"butaritari\",\"smoky lake\",\"assis\",\"cururupu\",\"punta arenas\",\"zunheboto\",\"cayenne\",\"tura\",\"olafsvik\",\"vila\",\"christchurch\",\"baculin\",\"kopayhorod\",\"kualakapuas\",\"russkaya polyana\",\"busselton\",\"tasiilaq\",\"newport\",\"belmonte\",\"klaksvik\",\"provideniya\",\"havre-saint-pierre\",\"dicabisagan\",\"nikolskoye\",\"lodja\",\"carnarvon\",\"hithadhoo\",\"mahebourg\",\"acapulco\",\"teahupoo\",\"pilar\",\"vrangel\",\"santa cruz de la palma\",\"mar del plata\",\"yar-sale\",\"tuatapere\",\"parabel\",\"husavik\",\"caraballeda\",\"arlit\",\"hornepayne\",\"tripoli\",\"hendrina\",\"noumea\",\"hirara\",\"nuevo progreso\",\"port macquarie\",\"lethem\",\"idah\",\"kodiak\",\"denia\",\"mareeba\",\"cozumel\",\"oyama\",\"hobart\",\"rio grande\",\"nhulunbuy\",\"turayf\",\"impfondo\",\"comodoro rivadavia\",\"tazovskiy\",\"lagoa\",\"verkhnyaya inta\",\"panaba\",\"ashtian\",\"saldanha\",\"marshall\",\"qaanaaq\",\"kasongo\",\"canmore\",\"konstantinovka\",\"olinda\",\"the valley\",\"bereda\",\"ponta delgada\",\"ourossogui\",\"urubicha\",\"biysk\",\"hibbing\",\"sitka\",\"russell\",\"moroni\",\"prince rupert\",\"turukhansk\",\"margate\",\"batemans bay\",\"viedma\",\"kandrian\",\"salalah\",\"cordoba\",\"barrow\",\"port hedland\",\"sakakah\",\"paita\",\"marrakesh\",\"ancud\",\"hermanus\",\"ponta do sol\",\"luderitz\",\"palmas bellas\",\"burnie\",\"lata\",\"minab\",\"buchanan\",\"pevek\",\"aasiaat\",\"anadyr\",\"pochutla\",\"svetlaya\",\"saint-philippe\",\"khatanga\",\"beringovskiy\",\"nuuk\",\"mvuma\",\"chegdomyn\",\"upernavik\",\"esmeraldas\",\"dwarka\",\"haines junction\",\"port lincoln\",\"kishorganj\",\"ostrovnoy\",\"te anau\",\"ketchikan\",\"sao lourenco do sul\",\"cidreira\",\"tupik\",\"clarence town\",\"meulaboh\",\"poum\",\"nicoya\",\"katobu\",\"mehamn\",\"mounana\",\"georgetown\",\"jiujiang\",\"huambo\",\"saint anthony\",\"kaitangata\",\"tambura\",\"alipur\",\"tiksi\",\"machinga\",\"andra\",\"slave lake\",\"evanston\",\"sines\",\"medvedka\",\"avarua\",\"sorland\",\"potosi\",\"fenyi\",\"jiuquan\",\"strezhevoy\",\"mount isa\",\"vao\",\"victoria\",\"faanui\",\"bengkulu\",\"muros\",\"abu zabad\",\"larreynaga\",\"lima\",\"leningradskiy\",\"touros\",\"talnakh\",\"port moresby\",\"naze\",\"richards bay\",\"tautira\",\"deniliquin\",\"altamira\",\"severo-kurilsk\",\"santa isabel do rio negro\",\"iberia\",\"macrohon\",\"otane\",\"cockburn town\",\"millerovo\",\"ust-kalmanka\",\"ngunguru\",\"salinopolis\",\"namibe\",\"kamaishi\",\"olga\",\"lorengau\",\"jiblah\",\"jiwani\",\"neuquen\",\"parole\",\"fayaoue\",\"svetlyy\",\"adrar\",\"chokurdakh\",\"cherskiy\",\"lompoc\",\"samarai\",\"medicine hat\",\"vanavara\",\"iqaluit\",\"ust-uda\",\"penugonda\",\"gwadar\",\"kendari\",\"gillette\",\"grasse\",\"ciudad bolivar\",\"kafanchan\",\"mount hagen\",\"el viejo\",\"baft\",\"dingle\",\"torbay\",\"victor harbor\",\"boshkengash\",\"fairbanks\",\"tharad\",\"bulolo\",\"puerto madryn\",\"tiznit\",\"bundaberg\",\"kropotkin\",\"marsh harbour\",\"sarangani\",\"presidente medici\",\"ha tinh\",\"tiarei\",\"makakilo city\",\"irtyshskiy\",\"kulhudhuffushi\",\"sepuka\",\"mandan\",\"lumeje\",\"oistins\",\"hagere hiywet\",\"vilyuysk\",\"bilibino\",\"tarakan\",\"hutang\",\"henties bay\",\"nanortalik\",\"banjar\",\"portland\",\"buala\",\"taltal\",\"baykit\",\"port blair\",\"los banos\",\"bonthe\",\"tshikapa\",\"russkiy aktash\",\"falkenberg\",\"opuwo\",\"calama\",\"benoy\",\"aklavik\",\"kuusamo\",\"pisco\",\"belmopan\",\"trapani\",\"lexington park\",\"san francisco\",\"ratholo\",\"dali\",\"beloha\",\"yumen\",\"grindavik\",\"amapa\",\"nanchang\",\"singaraja\",\"domoni\",\"cap malheureux\",\"severnoye\",\"lahat\",\"sabzevar\",\"klin\",\"chama\",\"kavaratti\",\"kiunga\",\"camana\",\"cagliari\",\"springbok\",\"kuytun\",\"muisne\",\"bandar-e lengeh\",\"tecoanapa\",\"baghdad\",\"eufaula\",\"bilma\",\"la rioja\",\"pauini\",\"ballina\",\"kasane\",\"guerrero negro\",\"vostok\",\"colares\",\"surt\",\"launceston\",\"male\",\"marzuq\",\"thinadhoo\",\"grand forks\",\"kruisfontein\",\"champerico\",\"andenes\",\"ola\",\"fukue\",\"pangoa\",\"chuy\",\"paamiut\",\"codrington\",\"candolim\",\"eureka\",\"joao pinheiro\",\"icod de los vinos\",\"raga\",\"phan thiet\",\"zhigansk\",\"urumqi\",\"gurupa\",\"nakatsu\",\"malchevskaya\",\"palmas de monte alto\",\"lukh\",\"himatnagar\",\"kaspiysk\",\"nijar\",\"almenara\",\"tambacounda\",\"pundaguitan\",\"sambava\",\"abu samrah\",\"rennes\",\"manavgat\",\"mezen\",\"suez\",\"staraya toropa\",\"lasa\",\"baturaja\",\"coquimbo\",\"vestmannaeyjar\",\"valentigney\",\"alyangula\",\"timoteo\",\"pajarito\",\"tyukhtet\",\"verin\",\"hobyo\",\"qaqortoq\",\"anqing\",\"pulandian\",\"reims\",\"usinsk\",\"tezu\",\"fort nelson\",\"tombouctou\",\"linqiong\",\"sistranda\",\"goundam\",\"lumphat\",\"meitingen\",\"sao felix do xingu\",\"monte patria\",\"kudahuvadhoo\",\"baherden\",\"caucaia\",\"maniitsoq\",\"sampit\",\"kavieng\",\"shelburne\",\"seoul\",\"oussouye\",\"monduli\",\"mandera\",\"yambio\",\"tarko-sale\",\"maragogi\",\"krasnooktyabrskiy\",\"ornes\",\"broome\",\"nome\",\"volkhov\",\"vardo\",\"tamworth\",\"korla\",\"wawa\",\"college\",\"jiaojiang\",\"washim\",\"juba\",\"kjollefjord\",\"santa cruz\",\"ivesti\",\"tocopilla\",\"biak\",\"joshimath\",\"bagdarin\",\"tam ky\",\"anloga\",\"araouane\",\"seddon\",\"toamasina\",\"hay river\",\"cairns\",\"yuksekova\",\"sioux lookout\",\"wichita falls\",\"quelimane\",\"miramar\",\"nyurba\",\"sayyan\",\"shenzhen\",\"hit\",\"laguna\",\"conceicao do araguaia\",\"palma di montechiaro\",\"celestun\",\"synya\",\"moyale\",\"nanzhang\",\"fukuma\",\"bambanglipuro\",\"gorontalo\",\"nortelandia\",\"nangloi jat\",\"parintins\",\"broken hill\",\"middleton\",\"saint-pierre\",\"lufilufi\",\"sande\",\"manzhouli\",\"jacareacanga\",\"aden\",\"monroe\",\"egvekinot\",\"erzin\",\"bastia\",\"nara\",\"thibodaux\",\"stange\",\"rorvik\",\"swan river\",\"bismarck\",\"tommot\",\"santarem\",\"lisala\",\"faya\",\"pitimbu\",\"krasnoye\",\"nishihara\",\"itaporanga\",\"mayna\",\"yulara\",\"emerald\",\"coahuayana\",\"nevesinje\",\"show low\",\"tsumeb\",\"palana\",\"la ronge\",\"ugoofaaru\",\"bela\",\"ranong\",\"sao joao da barra\",\"ternate\",\"abeche\",\"shache\",\"narsaq\",\"la sierra\"],\"Humidity\":[85,70,77,68,84,54,78,49,78,76,100,84,60,70,91,76,98,91,72,73,45,98,92,68,96,80,78,61,57,69,74,100,64,74,73,93,67,65,67,81,70,95,21,73,83,85,82,66,88,92,82,69,70,34,99,93,99,59,97,94,88,99,100,54,99,52,90,92,77,95,73,66,55,90,86,67,86,92,85,93,22,89,48,86,54,98,89,100,88,80,78,64,88,77,99,71,93,75,76,80,60,81,98,87,38,94,33,65,61,23,84,92,59,95,48,96,94,90,61,59,77,80,98,97,49,66,78,74,75,82,37,67,76,100,70,98,70,73,16,87,64,84,71,78,72,62,74,82,75,90,64,94,44,55,77,55,60,57,37,100,66,99,90,73,95,53,94,96,92,90,69,77,100,94,39,99,96,44,80,87,86,100,95,82,76,60,85,78,64,84,39,51,80,81,91,93,61,88,86,33,72,94,90,99,92,76,71,43,85,100,92,95,68,87,94,88,70,68,59,38,92,79,87,81,78,93,47,70,81,76,54,81,94,74,77,96,94,88,22,42,100,97,100,69,63,83,100,78,88,88,86,39,98,58,68,79,76,64,77,20,63,77,97,74,97,89,78,94,75,15,96,70,99,86,83,47,76,89,95,64,90,81,66,42,86,76,45,46,75,81,85,26,100,100,62,79,75,100,66,96,59,44,57,79,66,69,21,88,56,55,71,94,53,42,82,48,96,60,79,62,91,63,73,97,81,78,64,95,74,91,72,94,73,40,96,100,70,89,90,85,68,86,74,82,100,74,59,79,85,100,100,47,62,21,97,93,94,98,100,74,76,70,26,83,41,64,99,73,71,86,75,94,58,48,99,83,73,63,87,65,82,96,87,88,76,66,81,25,84,98,67,96,35,77,64,58,31,79,13,70,80,96,73,81,80,82,98,81,89,59,69,92,83,74,17,55,95,92,98,95,89,53,97,36,80,62,87,20,78,86,83,80,65,97,65,99,90,65,88,64,84,53,96,72,93,78,78,69,79,24,86,100,68,85,15,63,74,15,33,93,98,65,70,40,83,89,53,74,92,61,45,73,69,33,97,72,91,90,83,71,99,87,92,56,23,81,81,24,37,81,94,76,82,63,36,67,70,83,14,60,88,78,62,93,93,65,94,75,96,41,84,56,64,92,86,80,99,37,51,87,78,68,96,94,91,17,86,58,75,92,89,98,65,87,89,82,63,32,86,98,87,67,71,92,94,46,61,64,96,83,82,100,13,54,92,84,65,92,96,85,74,42,53,93,73,17,50,63,91],\"Lat\":{\"__ndarray__\":\"9aYbJfY6Q0EFzzoqi35AwVZYp5ikUU7B/ZVUo0hrVsGmV2MJH5lBwexug8Ygh0nB03y/PUJWT8HpYNa7Pv1QQYt8eGjqpkHBbh4t2Z2+RcFJ7l94PVxmQRSYPd8UK1bBqMuNZepyLsFhdkyxFjFEwUuuYfQf6mJBND9i4IrvQMG+JEvZVTdjQUyO5esp5VJBwU6TB4E0S0E1elZ+MyklwZ9V0MvKJVRBkFjaooLvW8HfW6DCpwxEwVUTaeQQaGVB1y4aqcRIT8E3CYPvMU48wWbXtatt7lNBJ1I9LnxUU0E4j19PXepNQU7q8kwY7hjBJiYSEUpcMcGZ1Vm1biJjQT53E2Ohv1FB05PyvaCha0GHLABEO6RUQT6A/pKQo1xBr1SW7jgIVEH4rdYS3/BPwXaWqr70QitB8Nthh2G6MMGy05eN0plOwbv+M1kCx2BBXHMPPnoKQUH6HWFkwYghQaRItHr7u03Bo/pzv1pDUcGXQEqN4afowOwThkKRBh5ByS//Q9f5QUFipIGIzBf0wOMDNfIfEllBu5cx/5zKL0HNaBv4nDBTQW58Nus2I1TBqWz+lSn6YUEbo1FeQqdOwR+duOvHjGJBvSnr2mg4RsHaJlbhvtswwZGs1mKzqGBB2BKB+tvtWkHTBFcOTH9nQeJrtd5hDllBbIA+b/3nT0Gql4InAcdkQRyTDWvc8zJBamEGkE2pTsE++eGwrNNVQcPGNtDyGmFBtic5AkmIWkFuZqic1KY2QVraUYalylXBv/1QaQxEUEFNj826q1AiQa7goHJi8UpBr7bqD05sSUFXq5wSPmlZQWlp5xqBCllBYa9C7MxlRkFn8JF0m1ZjQcL3EkbEyENBQTbdPj9uQsG69qXYH2FRwQm/iaLWzUhBmNdtVvbtS0FfE9zwvS5gQd40pio4vlNBzYf18tecWUF1St/CBhlBQebAtJikBhxBHQ5/UkPPQcEZ42QU5/pDQc3yOfXyUFZBcLo01Ax4YkEIDS2ObrViQTD4w1ObRlJBv3ryQE/IXEGXO86NHydCQa5pdldmYCjBrkhoEaLfFEEHIIm6wW9bQYAu5PXaxEPBec+CyT/ZCMGh1OgMer5awWb+DZeG2UZBv9qHhrjHIEENE45Tp21GQSnF0KELRmJB/PaDk3e0U0E2xA5EF5NUwTO0iXCrYylBEfa6EH/YV0EbifJKVnQUwZOVGQQvNVhBMwvK6yZhTsEocDnki6NiQdVMZDpHqFlBRjOBZMpLO8HcuDxMFgBhQX17sqwrBWJBBeoEysK+WEEPUHAfbXQ9Qd8IcM6wyl9BvxS/D3muF8HexZ5KutBFwaIg7KSOTvDAzHNWlA+2QcE163fGIRE9QTxx7Mr9yj7BeYrUlepgMMH6WszgYRtUQYtppQKAcklBFd7Frml4UcEK1pj45kdjQWx2mRvCIVbBBSk9pSb1XkGMiw0sr9xiQTlH9WvMIDJB+f71QGg0QEGMm+M8TBNYQQNQb0Wvl01BYRTFKgUIR8HQIPxqLWpDwcw6rYa/wEVBUz6/VQ88REGLTnsWXyVMwScOYgj/+hZB6iA6SVA0KEHGbIr3oDleQcr2DUjD7FFBmi1WCjlPPcF/syMhUM1BQQ9cNfQ2kFBBsTehUZAxVMGjTDHmML9MwV9aBAVv8DTBU6KrwmZiTEHzpaBxSkMGQfReSF4J+FXBfY0Ac5GgY0GcF0gLAQpSQU+foGIn1GJBdNJLqa2BQkF8joVI/0VPQRFu2YUMu03BcDA/GYghT0EhSHlB1uNqQWv24Q/6Qx7BRGzS34ZQWUGf0adwn1ZYQXOU6HsATCvBkMHptnN6P0GtePpRfGtUQXlhTJBeU1FBy79hKNLXOkFzEosPJnM6wbPEuSoJUFpBh9qhOS3vVkGGC7vm2KRdQWoCzg4sEE1B2UFPaFsENMEbcOimypRbQYj5yz1FvmJB9ys3HT+EWUF1Twlb00FQwdxIOvAJBFPBNXpWfjMpJcHBWwTXFlY9QaNzYJ1TIEzBuxXW1mTwZUHQVIIv3aBBwRv+4NNDs0pBhngfI9NPIcGXmRfx7VdMQaIX1ET6nFPB1/kIXdUqT8GPALSIxWFNQZNOK2/LfkfBTXmflcx/L0GOzXU4eihTwVL+xLEKp1JBi+8N+1n4R0HsCXFDcAMkQQO0NBVv7WRBhl6E5K1VZEEChq1MlTNiQV4ls+GaFTtBytb4Op9hVkFGtVLKOpNCwXiIkO0BZWZBFaYFMXlhYUEq6q12JOxhQSI59XYdsUDBBiq0p0pWWUE8BWYTRfhmQRal+HSaIEHBzcOyN4JhQ0FCYzIpJ1hgQc0yJj7ofU/BBrH8mAxpRUE4f8JayfRjQTuP4qoQslXBRI3XWnVWXEE92E/dDBRMwWFFvO5g6ErBgra7gyupW0H15SrdPUxNwbFFOSXNIBxByoSxi4iNQcE6yG4sKVQxQWkPP4lEziDBIFCvPHvFZUGfqDRhSiQDwQzc9AQLaSJBid/N8wB4SkG43JywM+I1wcTToFfrdFVBLSVj1RE5VsEOdKgWAA4jQcVvtFTYIEpB1c91v0s0ZkHJihfYUhI6wbgwXePaIWFBPPAG7DlLXEE36+qACLZTQeKtDAwOclFBdFOGeCOGYEHEvQDrEHBCwT0CiEcZvWNBGGZ6qUv3QMFecXWbM5tIQW61R6uFa1JBLqqNDA1WYEGI4trclAFCwSoMUowIxkPBJgM9zlZsQ0EqDKcTmGQ8wf9u6pgk1xnBE5t/QEQiVEG6iHDKXiQ1QZuMKqv6tTVBxT+oPeGbNMEy8qCoDrxkQTFECGedryHBcYozvAbMZEFWYFOw+BwwwVfuHrcaJElBTq1a1yuLScGJwuk/U50+wf2WVy9MKVDB2mz+i57GFcEFe5mM1ApZQToUKDdxf+bA7/ayD1+uSkGC5xYd3DUxQZF15I1Zf1LBXw8nvzarQkF9fxmb+uJXQXJmeMMWBlpBllgk0HE0UMEsnb4fL63wwNywHmDCHjrBGjxCmGIoUkFQNYsUzbJUQc7jpKOMfQvB3xnQcyfiN0Hclcyfr/xFQWFGqUM9/FHBbE6ZdycAUkFT0yW2OO5BwfIaQwH511tBLJo2o+XLQUEtfvjc2oJlQT/CaOKzW2RBZiiF5f9kT0Hc8S5WOyMywVJubDOrn1hBNvF0aZYqYEG9SqwRh7ZhQXJ7mz1keltB9vdWNM23PEGbAvXs3w1GQSYoAys70xrBve9zaXIFVUFfhFDSHadUQbY1nX+FrytBlW8VUMlaMEGbr0W5l+8jwXdaA/DqrzVBx1Qya0v7SUHW+bUZsswyQTM8gca7FVdBK9vwpcItUMFz1Jo+mrhRQe4P1Q3KPmJBQzIwuCpgRUEN2BlURIYowRZxId06IVTBF5icTnlSSkE8MCjcucxFwTZU6XhJtVVBRNKJYc1kR0H6FkRPJGIiQc1O9UuYGjPBO6na27WvP0E/No6wEUI+wZIyEo2FkEJB7RUdc0epXkHYS+EB/4smQYcfd6S8JyDByFxrNTqPVkFPphGwycAzwZJuuZ3ZYzZBwaSNy9WkLkFvOcDzGrdhQc8i4jMB9WNBFPN9XRZvFkFrU1ba3T5MQeqXcBCJREPBNyQKIQkVYEFHKg6qFusrwSJKdvuawlVBEDOBP43DK8EaAzQUzlBGwaU0ZlXAv2BBScUY8Zf0M0F/Jv2RBFA4QehGMQh+pClBNle3SzPYJcHQZbuVmhxcQegt7Qpnh11BgAPqmO4yP8G4q36V8ZZDwcGkjcvVpC5BVGT8AwQNZEH783Q/O9JiQYggVp/sfjfBdL+BB/rAPUG69qXYH2FRQeKzWCT4nFFBG4St1hZZUUHNbR6zp9NDwZG2Oe0ZmUZBE0N48rQYRsHWmS8eL7hSQY5u/fjTwWFBV0MuSdIt+0A5Zj1Sc3JJQfXefpmPpivBpwcKUu/6NMGDgKGl21NBwdn1GvRwGV1B2L/5F3LWGcH/K/iXboRQQf50F5pXFl1BiSeyD+LHVkF1X3CIMw0yQfIIA19G1iTBZTSljuCjPMHRvZ2uViVSQfr/Dqi7ZkrBt9Pe9JmZW0GiIOykjk7wQJa9EXncaEdB5g++1b1zPEHTby1WfBBOQez9r0BdmkxB7eOh8o8oQEFlTuaGqdRTQZG9rWS/SCrBvX5qbPGfScGbCI21aMM+wT4gL9z2w0hBrTpR2TNZVkEWcvFX9eZRQQJAhE1C7EtBqFWZN+hfU8E46SGJ8WMcQY5RmNyzuDhBe5xiVfH87EChSRJRQkJXQTxjcpKevU7ByaIdaNGLOEExSIlBbLFkQVMGx7jVsF9B7MjXoExnTUGRSBiBkLw0wYpjRg51bU7BSK63Bw/lYEERQe6Y9JxRwalg35P2rzpBnOywyGYCU0FV9aqBhqE+wfe2dUeDJUlBGu6vYQ3YLEHfQ5esX68yQZeZeFUgP2NBQO5bfFK7VEG3MYd+HBgDwdr3v7+ZU05BK0f6N/L4V0EVHAinGX04wXhODWO3nF1BcaHJyLKiREF4W0Xf4zFUQUhHO5aB6lBBkzBbfMrcO8FyOO0oDZc3QYAJtGlLsCVBiRewOOB8OMGaHCwnkApQQQLj7i3aZldBlHnGRBLSUEHSkYrp+8JiQf9W89VEtEpBPLCquuoLXUELAQAc6W1WQU3SU9ORGxzB9vHeMyavSsH1rDhQ5JBhQUEGTnUT9VZBQS4rIFLBN8FCY2itCvdAwU3x3361ASJBjzjaAMU+XUF4keocd6dTQUYdTwQFNCJBhp/QrjRUYEF7V2EPCjtLQQ4IAoh1OlJB8zYmmHYLWEHbnOMS3dViQV8IOc8ltUhBpbnFza0LX0FsiKd2g1dBQb4WCVyBI0tBec+w3nSzYUGFdSR3ZkU8QVSB6cr9HzdB1f/j+Y+lV0HbuyiPyJ8mwd6s42YwaUvB8etcTS8nEkHg9k+1c7RRQQE5VDAPZxnBxpJFwZqJYkFOKBVgxjcRwcHvrX5VfxHBsvfJUT/lVEEOEI/TtjxRQW7qzOd6YDVBFPN9XRZvFsGVz+73lcQaQUjBZnUDGR9BqMDtZqJJYkGprKY5SL4uweHmxBpxZ1VBFclnEdNMY0FkyM0VwNRTQfq6uioDFGJBCPWlJMH6X0Hkn3GzDlhlQZ9lR61/YVpBKqgC1+6MU0EssOmifOcwQXrkilw7QWJBv8Xj/LRxSUFt9/eIqG5BQZtBar9+gCBBefNkZna2ZUH68GIdyLs+wccVvJBz21VBnhLeQuc+Q8GlZhYUItH4wDprMumNSUtBBwWYP6qqW0GGYpoM5sU6QVU7Hx0ruCNBBHLFbflaQEHSeAI+el1RwTiVC75tYz/BzpH6kjZfYEENZQGVWik9wcS0wutwPVFBTACiXiOoWEEQvBv2IaZOQcT9VcSv3z7BKQUgCoLeRkFOeOvirH1hQVeBOnbPEzpBh3kqJ32pQ0HKmnZL9V5OQViPiLlXslFBOWBobaomLMHubJm2UAlRQTP4d4ibIEJB6aVQOL6DYkEZfCgjregXQX7ygDP8fExBfh74Mad/TkFW9TzXRhgrwWdVViPgau1AtQ0yUUPROME5Zj1Sc3JJQaaQZrwu3RHB3KevkWapTMHVeJcKUwdbQckmumO/jkLBquEbLg7NN8H4l3eWE/9aQYPnuzrSU1hBmC79QQMuJcHyfmVfrOM1QY6826TPWVRBR0O2SUQBY0FbQjpmEOlQQcdWiEAQElRBNIBytChxT0E6I/dfqIdKQfTUpapZVGBBmPnereVBYkHTnrKGcwNaQQUReexNjFZB4SO3TXYrX0FYSVNlvJoQwVApu74IOQ1B0ar/c3HHP0GPEqaei3Mpwez5H3m+iFhBbRFZbCwOR0G6T2lJy+EowewPQU0gb1tB5cho/HYqRsE4fOx24JJEwTjx4KqUM0BBVievJv5pVEE+MrwUhf9OQZGxi0eLpkDB2OZbRlVNX0GQWDJxUShcQYTtOi1KSCNBntlKGnPRRkFZGgZSkAMxQWNi26wU1ULBWuNcyCe+9UAgP0hcxLg3QTZQo/y+sVFBZ3oZKoBqYEHlx0GW5psNQQ==\",\"dtype\":\"float64\",\"order\":\"little\",\"shape\":[569]},\"Lng\":{\"__ndarray__\":\"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\",\"dtype\":\"float64\",\"order\":\"little\",\"shape\":[569]},\"color\":[\"kapaa\",\"alofi\",\"port alfred\",\"bluff\",\"morondava\",\"geraldton\",\"flinders\",\"saint george\",\"bambous virieux\",\"castro\",\"saskylakh\",\"mataura\",\"airai\",\"rikitea\",\"pangnirtung\",\"isangel\",\"kemijarvi\",\"fortuna\",\"san quintin\",\"kieta\",\"hami\",\"ushuaia\",\"arraial do cabo\",\"clyde river\",\"bredasdorp\",\"jequitinhonha\",\"arys\",\"bethel\",\"avera\",\"namatanai\",\"kupang\",\"aksarka\",\"ribeira grande\",\"longyearbyen\",\"erenhot\",\"thompson\",\"albany\",\"ahipara\",\"marawi\",\"atuona\",\"esperance\",\"mayya\",\"adilabad\",\"sapa\",\"east london\",\"lebu\",\"garissa\",\"miri\",\"ixtapa\",\"puerto ayora\",\"solnechnyy\",\"don sak\",\"aksu\",\"new norfolk\",\"lukovetskiy\",\"port elizabeth\",\"ust-tsilma\",\"hervey bay\",\"alta floresta\",\"mokhsogollokh\",\"liverpool\",\"dikson\",\"port hardy\",\"katsuura\",\"tuktoyaktuk\",\"svay rieng\",\"cape town\",\"baijiantan\",\"yellowknife\",\"hudson bay\",\"bathsheba\",\"coihaique\",\"hasaki\",\"sinnamary\",\"ascension\",\"los llanos de aridane\",\"saint-augustin\",\"severnyy\",\"jiangkou\",\"sisimiut\",\"taoudenni\",\"vaini\",\"mount gambier\",\"san patricio\",\"alexandria\",\"teya\",\"jamestown\",\"adamovka\",\"hilo\",\"xuddur\",\"souillac\",\"cabo san lucas\",\"asau\",\"norman wells\",\"zyryanka\",\"seydi\",\"esso\",\"kahului\",\"pamekasan\",\"butaritari\",\"smoky lake\",\"assis\",\"cururupu\",\"punta arenas\",\"zunheboto\",\"cayenne\",\"tura\",\"olafsvik\",\"vila\",\"christchurch\",\"baculin\",\"kopayhorod\",\"kualakapuas\",\"russkaya polyana\",\"busselton\",\"tasiilaq\",\"newport\",\"belmonte\",\"klaksvik\",\"provideniya\",\"havre-saint-pierre\",\"dicabisagan\",\"nikolskoye\",\"lodja\",\"carnarvon\",\"hithadhoo\",\"mahebourg\",\"acapulco\",\"teahupoo\",\"pilar\",\"vrangel\",\"santa cruz de la palma\",\"mar del plata\",\"yar-sale\",\"tuatapere\",\"parabel\",\"husavik\",\"caraballeda\",\"arlit\",\"hornepayne\",\"tripoli\",\"hendrina\",\"noumea\",\"hirara\",\"nuevo progreso\",\"port macquarie\",\"lethem\",\"idah\",\"kodiak\",\"denia\",\"mareeba\",\"cozumel\",\"oyama\",\"hobart\",\"rio grande\",\"nhulunbuy\",\"turayf\",\"impfondo\",\"comodoro rivadavia\",\"tazovskiy\",\"lagoa\",\"verkhnyaya inta\",\"panaba\",\"ashtian\",\"saldanha\",\"marshall\",\"qaanaaq\",\"kasongo\",\"canmore\",\"konstantinovka\",\"olinda\",\"the valley\",\"bereda\",\"ponta delgada\",\"ourossogui\",\"urubicha\",\"biysk\",\"hibbing\",\"sitka\",\"russell\",\"moroni\",\"prince rupert\",\"turukhansk\",\"margate\",\"batemans bay\",\"viedma\",\"kandrian\",\"salalah\",\"cordoba\",\"barrow\",\"port hedland\",\"sakakah\",\"paita\",\"marrakesh\",\"ancud\",\"hermanus\",\"ponta do sol\",\"luderitz\",\"palmas bellas\",\"burnie\",\"lata\",\"minab\",\"buchanan\",\"pevek\",\"aasiaat\",\"anadyr\",\"pochutla\",\"svetlaya\",\"saint-philippe\",\"khatanga\",\"beringovskiy\",\"nuuk\",\"mvuma\",\"chegdomyn\",\"upernavik\",\"esmeraldas\",\"dwarka\",\"haines junction\",\"port lincoln\",\"kishorganj\",\"ostrovnoy\",\"te anau\",\"ketchikan\",\"sao lourenco do sul\",\"cidreira\",\"tupik\",\"clarence town\",\"meulaboh\",\"poum\",\"nicoya\",\"katobu\",\"mehamn\",\"mounana\",\"georgetown\",\"jiujiang\",\"huambo\",\"saint anthony\",\"kaitangata\",\"tambura\",\"alipur\",\"tiksi\",\"machinga\",\"andra\",\"slave lake\",\"evanston\",\"sines\",\"medvedka\",\"avarua\",\"sorland\",\"potosi\",\"fenyi\",\"jiuquan\",\"strezhevoy\",\"mount isa\",\"vao\",\"victoria\",\"faanui\",\"bengkulu\",\"muros\",\"abu zabad\",\"larreynaga\",\"lima\",\"leningradskiy\",\"touros\",\"talnakh\",\"port moresby\",\"naze\",\"richards bay\",\"tautira\",\"deniliquin\",\"altamira\",\"severo-kurilsk\",\"santa isabel do rio negro\",\"iberia\",\"macrohon\",\"otane\",\"cockburn town\",\"millerovo\",\"ust-kalmanka\",\"ngunguru\",\"salinopolis\",\"namibe\",\"kamaishi\",\"olga\",\"lorengau\",\"jiblah\",\"jiwani\",\"neuquen\",\"parole\",\"fayaoue\",\"svetlyy\",\"adrar\",\"chokurdakh\",\"cherskiy\",\"lompoc\",\"samarai\",\"medicine hat\",\"vanavara\",\"iqaluit\",\"ust-uda\",\"penugonda\",\"gwadar\",\"kendari\",\"gillette\",\"grasse\",\"ciudad bolivar\",\"kafanchan\",\"mount hagen\",\"el viejo\",\"baft\",\"dingle\",\"torbay\",\"victor harbor\",\"boshkengash\",\"fairbanks\",\"tharad\",\"bulolo\",\"puerto madryn\",\"tiznit\",\"bundaberg\",\"kropotkin\",\"marsh harbour\",\"sarangani\",\"presidente medici\",\"ha tinh\",\"tiarei\",\"makakilo city\",\"irtyshskiy\",\"kulhudhuffushi\",\"sepuka\",\"mandan\",\"lumeje\",\"oistins\",\"hagere hiywet\",\"vilyuysk\",\"bilibino\",\"tarakan\",\"hutang\",\"henties bay\",\"nanortalik\",\"banjar\",\"portland\",\"buala\",\"taltal\",\"baykit\",\"port blair\",\"los banos\",\"bonthe\",\"tshikapa\",\"russkiy aktash\",\"falkenberg\",\"opuwo\",\"calama\",\"benoy\",\"aklavik\",\"kuusamo\",\"pisco\",\"belmopan\",\"trapani\",\"lexington park\",\"san francisco\",\"ratholo\",\"dali\",\"beloha\",\"yumen\",\"grindavik\",\"amapa\",\"nanchang\",\"singaraja\",\"domoni\",\"cap malheureux\",\"severnoye\",\"lahat\",\"sabzevar\",\"klin\",\"chama\",\"kavaratti\",\"kiunga\",\"camana\",\"cagliari\",\"springbok\",\"kuytun\",\"muisne\",\"bandar-e lengeh\",\"tecoanapa\",\"baghdad\",\"eufaula\",\"bilma\",\"la rioja\",\"pauini\",\"ballina\",\"kasane\",\"guerrero negro\",\"vostok\",\"colares\",\"surt\",\"launceston\",\"male\",\"marzuq\",\"thinadhoo\",\"grand forks\",\"kruisfontein\",\"champerico\",\"andenes\",\"ola\",\"fukue\",\"pangoa\",\"chuy\",\"paamiut\",\"codrington\",\"candolim\",\"eureka\",\"joao pinheiro\",\"icod de los vinos\",\"raga\",\"phan thiet\",\"zhigansk\",\"urumqi\",\"gurupa\",\"nakatsu\",\"malchevskaya\",\"palmas de monte alto\",\"lukh\",\"himatnagar\",\"kaspiysk\",\"nijar\",\"almenara\",\"tambacounda\",\"pundaguitan\",\"sambava\",\"abu samrah\",\"rennes\",\"manavgat\",\"mezen\",\"suez\",\"staraya toropa\",\"lasa\",\"baturaja\",\"coquimbo\",\"vestmannaeyjar\",\"valentigney\",\"alyangula\",\"timoteo\",\"pajarito\",\"tyukhtet\",\"verin\",\"hobyo\",\"qaqortoq\",\"anqing\",\"pulandian\",\"reims\",\"usinsk\",\"tezu\",\"fort nelson\",\"tombouctou\",\"linqiong\",\"sistranda\",\"goundam\",\"lumphat\",\"meitingen\",\"sao felix do xingu\",\"monte patria\",\"kudahuvadhoo\",\"baherden\",\"caucaia\",\"maniitsoq\",\"sampit\",\"kavieng\",\"shelburne\",\"seoul\",\"oussouye\",\"monduli\",\"mandera\",\"yambio\",\"tarko-sale\",\"maragogi\",\"krasnooktyabrskiy\",\"ornes\",\"broome\",\"nome\",\"volkhov\",\"vardo\",\"tamworth\",\"korla\",\"wawa\",\"college\",\"jiaojiang\",\"washim\",\"juba\",\"kjollefjord\",\"santa cruz\",\"ivesti\",\"tocopilla\",\"biak\",\"joshimath\",\"bagdarin\",\"tam ky\",\"anloga\",\"araouane\",\"seddon\",\"toamasina\",\"hay river\",\"cairns\",\"yuksekova\",\"sioux lookout\",\"wichita falls\",\"quelimane\",\"miramar\",\"nyurba\",\"sayyan\",\"shenzhen\",\"hit\",\"laguna\",\"conceicao do araguaia\",\"palma di montechiaro\",\"celestun\",\"synya\",\"moyale\",\"nanzhang\",\"fukuma\",\"bambanglipuro\",\"gorontalo\",\"nortelandia\",\"nangloi jat\",\"parintins\",\"broken hill\",\"middleton\",\"saint-pierre\",\"lufilufi\",\"sande\",\"manzhouli\",\"jacareacanga\",\"aden\",\"monroe\",\"egvekinot\",\"erzin\",\"bastia\",\"nara\",\"thibodaux\",\"stange\",\"rorvik\",\"swan river\",\"bismarck\",\"tommot\",\"santarem\",\"lisala\",\"faya\",\"pitimbu\",\"krasnoye\",\"nishihara\",\"itaporanga\",\"mayna\",\"yulara\",\"emerald\",\"coahuayana\",\"nevesinje\",\"show low\",\"tsumeb\",\"palana\",\"la ronge\",\"ugoofaaru\",\"bela\",\"ranong\",\"sao joao da barra\",\"ternate\",\"abeche\",\"shache\",\"narsaq\",\"la sierra\"],\"size\":{\"__ndarray__\":\"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\",\"dtype\":\"float64\",\"order\":\"little\",\"shape\":[569]}},\"selected\":{\"id\":\"2027\"},\"selection_policy\":{\"id\":\"2039\"}},\"id\":\"2026\",\"type\":\"ColumnDataSource\"},{\"attributes\":{\"bottom_units\":\"screen\",\"coordinates\":null,\"fill_alpha\":0.5,\"fill_color\":\"lightgrey\",\"group\":null,\"left_units\":\"screen\",\"level\":\"overlay\",\"line_alpha\":1.0,\"line_color\":\"black\",\"line_dash\":[4,4],\"line_width\":2,\"right_units\":\"screen\",\"syncable\":false,\"top_units\":\"screen\"},\"id\":\"1984\",\"type\":\"BoxAnnotation\"},{\"attributes\":{\"axis\":{\"id\":\"1975\"},\"coordinates\":null,\"dimension\":1,\"grid_line_color\":null,\"group\":null,\"ticker\":null},\"id\":\"1978\",\"type\":\"Grid\"},{\"attributes\":{\"fill_color\":{\"field\":\"color\",\"transform\":{\"id\":\"2025\"}},\"hatch_color\":{\"field\":\"color\",\"transform\":{\"id\":\"2025\"}},\"line_color\":{\"field\":\"color\",\"transform\":{\"id\":\"2025\"}},\"size\":{\"field\":\"size\"},\"x\":{\"field\":\"Lng\"},\"y\":{\"field\":\"Lat\"}},\"id\":\"2029\",\"type\":\"Scatter\"},{\"attributes\":{\"margin\":[5,5,5,5],\"name\":\"HSpacer02572\",\"sizing_mode\":\"stretch_width\"},\"id\":\"1950\",\"type\":\"Spacer\"},{\"attributes\":{\"dimension\":\"lon\"},\"id\":\"1995\",\"type\":\"MercatorTickFormatter\"},{\"attributes\":{\"fill_color\":{\"field\":\"color\",\"transform\":{\"id\":\"2025\"}},\"hatch_color\":{\"field\":\"color\",\"transform\":{\"id\":\"2025\"}},\"line_color\":{\"field\":\"color\",\"transform\":{\"id\":\"2025\"}},\"size\":{\"field\":\"size\"},\"x\":{\"field\":\"Lng\"},\"y\":{\"field\":\"Lat\"}},\"id\":\"2031\",\"type\":\"Scatter\"},{\"attributes\":{\"zoom_on_axis\":false},\"id\":\"1981\",\"type\":\"WheelZoomTool\"},{\"attributes\":{\"label\":{\"field\":\"color\"},\"renderers\":[{\"id\":\"2034\"}]},\"id\":\"2043\",\"type\":\"LegendItem\"},{\"attributes\":{\"coordinates\":null,\"group\":null,\"text_color\":\"black\",\"text_font_size\":\"12pt\"},\"id\":\"1963\",\"type\":\"Title\"},{\"attributes\":{},\"id\":\"1969\",\"type\":\"LinearScale\"},{\"attributes\":{\"tools\":[{\"id\":\"1959\"},{\"id\":\"1979\"},{\"id\":\"1980\"},{\"id\":\"1981\"},{\"id\":\"1982\"},{\"id\":\"1983\"}]},\"id\":\"1985\",\"type\":\"Toolbar\"},{\"attributes\":{\"coordinates\":null,\"group\":null,\"level\":\"glyph\",\"tile_source\":{\"id\":\"2020\"}},\"id\":\"2023\",\"type\":\"TileRenderer\"},{\"attributes\":{\"dimension\":\"lat\"},\"id\":\"1997\",\"type\":\"MercatorTickFormatter\"},{\"attributes\":{\"code\":\"\\n        var projections = Bokeh.require(\\\"core/util/projections\\\");\\n        var x = special_vars.data_x\\n        var y = special_vars.data_y\\n        var coords = projections.wgs84_mercator.invert(x, y)\\n        return \\\"\\\" + (coords[1]).toFixed(4)\\n    \"},\"id\":\"2045\",\"type\":\"CustomJSHover\"},{\"attributes\":{\"callback\":null,\"formatters\":{\"$x\":{\"id\":\"2044\"},\"$y\":{\"id\":\"2045\"}},\"renderers\":[{\"id\":\"2034\"}],\"tags\":[\"hv_created\"],\"tooltips\":[[\"Lng\",\"$x{custom}\"],[\"Lat\",\"$y{custom}\"],[\"City\",\"@{City}\"],[\"Humidity\",\"@{Humidity}\"]]},\"id\":\"1959\",\"type\":\"HoverTool\"},{\"attributes\":{},\"id\":\"2000\",\"type\":\"AllLabels\"},{\"attributes\":{\"dimension\":\"lon\"},\"id\":\"1994\",\"type\":\"MercatorTicker\"},{\"attributes\":{\"coordinates\":null,\"data_source\":{\"id\":\"2026\"},\"glyph\":{\"id\":\"2029\"},\"group\":null,\"hover_glyph\":{\"id\":\"2032\"},\"muted_glyph\":{\"id\":\"2033\"},\"nonselection_glyph\":{\"id\":\"2030\"},\"selection_glyph\":{\"id\":\"2031\"},\"view\":{\"id\":\"2035\"}},\"id\":\"2034\",\"type\":\"GlyphRenderer\"},{\"attributes\":{\"axis_label\":\"x\",\"coordinates\":null,\"formatter\":{\"id\":\"1995\"},\"group\":null,\"major_label_policy\":{\"id\":\"2000\"},\"ticker\":{\"id\":\"1994\"}},\"id\":\"1971\",\"type\":\"LinearAxis\"},{\"attributes\":{\"children\":[{\"id\":\"1950\"},{\"id\":\"1962\"},{\"id\":\"2052\"}],\"margin\":[0,0,0,0],\"name\":\"Row02568\",\"tags\":[\"embedded\"]},\"id\":\"1949\",\"type\":\"Row\"},{\"attributes\":{\"dimension\":\"lat\"},\"id\":\"1996\",\"type\":\"MercatorTicker\"},{\"attributes\":{\"source\":{\"id\":\"2026\"}},\"id\":\"2035\",\"type\":\"CDSView\"},{\"attributes\":{},\"id\":\"1983\",\"type\":\"ResetTool\"},{\"attributes\":{},\"id\":\"2027\",\"type\":\"Selection\"},{\"attributes\":{},\"id\":\"2039\",\"type\":\"UnionRenderers\"},{\"attributes\":{\"axis\":{\"id\":\"1971\"},\"coordinates\":null,\"grid_line_color\":null,\"group\":null,\"ticker\":null},\"id\":\"1974\",\"type\":\"Grid\"},{\"attributes\":{\"code\":\"\\n        var projections = Bokeh.require(\\\"core/util/projections\\\");\\n        var x = special_vars.data_x\\n        var y = special_vars.data_y\\n        var coords = projections.wgs84_mercator.invert(x, y)\\n        return \\\"\\\" + (coords[0]).toFixed(4)\\n    \"},\"id\":\"2044\",\"type\":\"CustomJSHover\"},{\"attributes\":{},\"id\":\"2007\",\"type\":\"AllLabels\"},{\"attributes\":{\"fill_alpha\":{\"value\":0.1},\"fill_color\":{\"field\":\"color\",\"transform\":{\"id\":\"2025\"}},\"hatch_alpha\":{\"value\":0.1},\"hatch_color\":{\"field\":\"color\",\"transform\":{\"id\":\"2025\"}},\"line_alpha\":{\"value\":0.1},\"line_color\":{\"field\":\"color\",\"transform\":{\"id\":\"2025\"}},\"size\":{\"field\":\"size\"},\"x\":{\"field\":\"Lng\"},\"y\":{\"field\":\"Lat\"}},\"id\":\"2030\",\"type\":\"Scatter\"},{\"attributes\":{\"match_aspect\":true,\"overlay\":{\"id\":\"1984\"}},\"id\":\"1982\",\"type\":\"BoxZoomTool\"},{\"attributes\":{\"below\":[{\"id\":\"1971\"}],\"center\":[{\"id\":\"1974\"},{\"id\":\"1978\"}],\"frame_height\":500,\"frame_width\":600,\"height\":null,\"left\":[{\"id\":\"1975\"}],\"margin\":[5,5,5,5],\"match_aspect\":true,\"min_border_bottom\":10,\"min_border_left\":10,\"min_border_right\":10,\"min_border_top\":10,\"renderers\":[{\"id\":\"2023\"},{\"id\":\"2034\"}],\"right\":[{\"id\":\"2042\"}],\"sizing_mode\":\"fixed\",\"title\":{\"id\":\"1963\"},\"toolbar\":{\"id\":\"1985\"},\"width\":null,\"x_range\":{\"id\":\"1955\"},\"x_scale\":{\"id\":\"1967\"},\"y_range\":{\"id\":\"1956\"},\"y_scale\":{\"id\":\"1969\"}},\"id\":\"1962\",\"subtype\":\"Figure\",\"type\":\"Plot\"},{\"attributes\":{\"factors\":[\"kapaa\",\"alofi\",\"port alfred\",\"bluff\",\"morondava\",\"geraldton\",\"flinders\",\"saint george\",\"bambous virieux\",\"castro\",\"saskylakh\",\"mataura\",\"airai\",\"rikitea\",\"pangnirtung\",\"isangel\",\"kemijarvi\",\"fortuna\",\"san quintin\",\"kieta\",\"hami\",\"ushuaia\",\"arraial do cabo\",\"clyde river\",\"bredasdorp\",\"jequitinhonha\",\"arys\",\"bethel\",\"avera\",\"namatanai\",\"kupang\",\"aksarka\",\"ribeira grande\",\"longyearbyen\",\"erenhot\",\"thompson\",\"albany\",\"ahipara\",\"marawi\",\"atuona\",\"esperance\",\"mayya\",\"adilabad\",\"sapa\",\"east london\",\"lebu\",\"garissa\",\"miri\",\"ixtapa\",\"puerto ayora\",\"solnechnyy\",\"don sak\",\"aksu\",\"new norfolk\",\"lukovetskiy\",\"port elizabeth\",\"ust-tsilma\",\"hervey bay\",\"alta floresta\",\"mokhsogollokh\",\"liverpool\",\"dikson\",\"port hardy\",\"katsuura\",\"tuktoyaktuk\",\"svay rieng\",\"cape town\",\"baijiantan\",\"yellowknife\",\"hudson bay\",\"bathsheba\",\"coihaique\",\"hasaki\",\"sinnamary\",\"ascension\",\"los llanos de aridane\",\"saint-augustin\",\"severnyy\",\"jiangkou\",\"sisimiut\",\"taoudenni\",\"vaini\",\"mount gambier\",\"san patricio\",\"alexandria\",\"teya\",\"jamestown\",\"adamovka\",\"hilo\",\"xuddur\",\"souillac\",\"cabo san lucas\",\"asau\",\"norman wells\",\"zyryanka\",\"seydi\",\"esso\",\"kahului\",\"pamekasan\",\"butaritari\",\"smoky lake\",\"assis\",\"cururupu\",\"punta arenas\",\"zunheboto\",\"cayenne\",\"tura\",\"olafsvik\",\"vila\",\"christchurch\",\"baculin\",\"kopayhorod\",\"kualakapuas\",\"russkaya polyana\",\"busselton\",\"tasiilaq\",\"newport\",\"belmonte\",\"klaksvik\",\"provideniya\",\"havre-saint-pierre\",\"dicabisagan\",\"nikolskoye\",\"lodja\",\"carnarvon\",\"hithadhoo\",\"mahebourg\",\"acapulco\",\"teahupoo\",\"pilar\",\"vrangel\",\"santa cruz de la palma\",\"mar del plata\",\"yar-sale\",\"tuatapere\",\"parabel\",\"husavik\",\"caraballeda\",\"arlit\",\"hornepayne\",\"tripoli\",\"hendrina\",\"noumea\",\"hirara\",\"nuevo progreso\",\"port macquarie\",\"lethem\",\"idah\",\"kodiak\",\"denia\",\"mareeba\",\"cozumel\",\"oyama\",\"hobart\",\"rio grande\",\"nhulunbuy\",\"turayf\",\"impfondo\",\"comodoro rivadavia\",\"tazovskiy\",\"lagoa\",\"verkhnyaya inta\",\"panaba\",\"ashtian\",\"saldanha\",\"marshall\",\"qaanaaq\",\"kasongo\",\"canmore\",\"konstantinovka\",\"olinda\",\"the valley\",\"bereda\",\"ponta delgada\",\"ourossogui\",\"urubicha\",\"biysk\",\"hibbing\",\"sitka\",\"russell\",\"moroni\",\"prince rupert\",\"turukhansk\",\"margate\",\"batemans bay\",\"viedma\",\"kandrian\",\"salalah\",\"cordoba\",\"barrow\",\"port hedland\",\"sakakah\",\"paita\",\"marrakesh\",\"ancud\",\"hermanus\",\"ponta do sol\",\"luderitz\",\"palmas bellas\",\"burnie\",\"lata\",\"minab\",\"buchanan\",\"pevek\",\"aasiaat\",\"anadyr\",\"pochutla\",\"svetlaya\",\"saint-philippe\",\"khatanga\",\"beringovskiy\",\"nuuk\",\"mvuma\",\"chegdomyn\",\"upernavik\",\"esmeraldas\",\"dwarka\",\"haines junction\",\"port lincoln\",\"kishorganj\",\"ostrovnoy\",\"te anau\",\"ketchikan\",\"sao lourenco do sul\",\"cidreira\",\"tupik\",\"clarence town\",\"meulaboh\",\"poum\",\"nicoya\",\"katobu\",\"mehamn\",\"mounana\",\"georgetown\",\"jiujiang\",\"huambo\",\"saint anthony\",\"kaitangata\",\"tambura\",\"alipur\",\"tiksi\",\"machinga\",\"andra\",\"slave lake\",\"evanston\",\"sines\",\"medvedka\",\"avarua\",\"sorland\",\"potosi\",\"fenyi\",\"jiuquan\",\"strezhevoy\",\"mount isa\",\"vao\",\"victoria\",\"faanui\",\"bengkulu\",\"muros\",\"abu zabad\",\"larreynaga\",\"lima\",\"leningradskiy\",\"touros\",\"talnakh\",\"port moresby\",\"naze\",\"richards bay\",\"tautira\",\"deniliquin\",\"altamira\",\"severo-kurilsk\",\"santa isabel do rio negro\",\"iberia\",\"macrohon\",\"otane\",\"cockburn town\",\"millerovo\",\"ust-kalmanka\",\"ngunguru\",\"salinopolis\",\"namibe\",\"kamaishi\",\"olga\",\"lorengau\",\"jiblah\",\"jiwani\",\"neuquen\",\"parole\",\"fayaoue\",\"svetlyy\",\"adrar\",\"chokurdakh\",\"cherskiy\",\"lompoc\",\"samarai\",\"medicine hat\",\"vanavara\",\"iqaluit\",\"ust-uda\",\"penugonda\",\"gwadar\",\"kendari\",\"gillette\",\"grasse\",\"ciudad bolivar\",\"kafanchan\",\"mount hagen\",\"el viejo\",\"baft\",\"dingle\",\"torbay\",\"victor harbor\",\"boshkengash\",\"fairbanks\",\"tharad\",\"bulolo\",\"puerto madryn\",\"tiznit\",\"bundaberg\",\"kropotkin\",\"marsh harbour\",\"sarangani\",\"presidente medici\",\"ha tinh\",\"tiarei\",\"makakilo city\",\"irtyshskiy\",\"kulhudhuffushi\",\"sepuka\",\"mandan\",\"lumeje\",\"oistins\",\"hagere hiywet\",\"vilyuysk\",\"bilibino\",\"tarakan\",\"hutang\",\"henties bay\",\"nanortalik\",\"banjar\",\"portland\",\"buala\",\"taltal\",\"baykit\",\"port blair\",\"los banos\",\"bonthe\",\"tshikapa\",\"russkiy aktash\",\"falkenberg\",\"opuwo\",\"calama\",\"benoy\",\"aklavik\",\"kuusamo\",\"pisco\",\"belmopan\",\"trapani\",\"lexington park\",\"san francisco\",\"ratholo\",\"dali\",\"beloha\",\"yumen\",\"grindavik\",\"amapa\",\"nanchang\",\"singaraja\",\"domoni\",\"cap malheureux\",\"severnoye\",\"lahat\",\"sabzevar\",\"klin\",\"chama\",\"kavaratti\",\"kiunga\",\"camana\",\"cagliari\",\"springbok\",\"kuytun\",\"muisne\",\"bandar-e lengeh\",\"tecoanapa\",\"baghdad\",\"eufaula\",\"bilma\",\"la rioja\",\"pauini\",\"ballina\",\"kasane\",\"guerrero negro\",\"vostok\",\"colares\",\"surt\",\"launceston\",\"male\",\"marzuq\",\"thinadhoo\",\"grand forks\",\"kruisfontein\",\"champerico\",\"andenes\",\"ola\",\"fukue\",\"pangoa\",\"chuy\",\"paamiut\",\"codrington\",\"candolim\",\"eureka\",\"joao pinheiro\",\"icod de los vinos\",\"raga\",\"phan thiet\",\"zhigansk\",\"urumqi\",\"gurupa\",\"nakatsu\",\"malchevskaya\",\"palmas de monte alto\",\"lukh\",\"himatnagar\",\"kaspiysk\",\"nijar\",\"almenara\",\"tambacounda\",\"pundaguitan\",\"sambava\",\"abu samrah\",\"rennes\",\"manavgat\",\"mezen\",\"suez\",\"staraya toropa\",\"lasa\",\"baturaja\",\"coquimbo\",\"vestmannaeyjar\",\"valentigney\",\"alyangula\",\"timoteo\",\"pajarito\",\"tyukhtet\",\"verin\",\"hobyo\",\"qaqortoq\",\"anqing\",\"pulandian\",\"reims\",\"usinsk\",\"tezu\",\"fort nelson\",\"tombouctou\",\"linqiong\",\"sistranda\",\"goundam\",\"lumphat\",\"meitingen\",\"sao felix do xingu\",\"monte patria\",\"kudahuvadhoo\",\"baherden\",\"caucaia\",\"maniitsoq\",\"sampit\",\"kavieng\",\"shelburne\",\"seoul\",\"oussouye\",\"monduli\",\"mandera\",\"yambio\",\"tarko-sale\",\"maragogi\",\"krasnooktyabrskiy\",\"ornes\",\"broome\",\"nome\",\"volkhov\",\"vardo\",\"tamworth\",\"korla\",\"wawa\",\"college\",\"jiaojiang\",\"washim\",\"juba\",\"kjollefjord\",\"santa cruz\",\"ivesti\",\"tocopilla\",\"biak\",\"joshimath\",\"bagdarin\",\"tam ky\",\"anloga\",\"araouane\",\"seddon\",\"toamasina\",\"hay river\",\"cairns\",\"yuksekova\",\"sioux lookout\",\"wichita falls\",\"quelimane\",\"miramar\",\"nyurba\",\"sayyan\",\"shenzhen\",\"hit\",\"laguna\",\"conceicao do araguaia\",\"palma di montechiaro\",\"celestun\",\"synya\",\"moyale\",\"nanzhang\",\"fukuma\",\"bambanglipuro\",\"gorontalo\",\"nortelandia\",\"nangloi jat\",\"parintins\",\"broken hill\",\"middleton\",\"saint-pierre\",\"lufilufi\",\"sande\",\"manzhouli\",\"jacareacanga\",\"aden\",\"monroe\",\"egvekinot\",\"erzin\",\"bastia\",\"nara\",\"thibodaux\",\"stange\",\"rorvik\",\"swan river\",\"bismarck\",\"tommot\",\"santarem\",\"lisala\",\"faya\",\"pitimbu\",\"krasnoye\",\"nishihara\",\"itaporanga\",\"mayna\",\"yulara\",\"emerald\",\"coahuayana\",\"nevesinje\",\"show low\",\"tsumeb\",\"palana\",\"la ronge\",\"ugoofaaru\",\"bela\",\"ranong\",\"sao joao da barra\",\"ternate\",\"abeche\",\"shache\",\"narsaq\",\"la sierra\"],\"palette\":[\"#1f77b3\",\"#ff7e0e\",\"#2ba02b\",\"#d62628\",\"#9367bc\",\"#8c564b\",\"#e277c1\",\"#7e7e7e\",\"#bcbc21\",\"#16bdcf\",\"#3a0182\",\"#004201\",\"#0fffa8\",\"#5d003f\",\"#bcbcff\",\"#d8afa1\",\"#b80080\",\"#004d52\",\"#6b6400\",\"#7c0100\",\"#6026ff\",\"#ffff9a\",\"#564964\",\"#8cb893\",\"#93fbff\",\"#018267\",\"#90ff00\",\"#8200a0\",\"#ac8944\",\"#5b3400\",\"#ffbff2\",\"#ff6e75\",\"#798cff\",\"#dd00ff\",\"#505646\",\"#004489\",\"#ffbf60\",\"#ff018c\",\"#bdc8cf\",\"#af97b5\",\"#b65600\",\"#017000\",\"#cd87ff\",\"#1cd646\",\"#bfebc3\",\"#7997b5\",\"#a56089\",\"#6e8956\",\"#bc7c75\",\"#8a2844\",\"#00acff\",\"#8ed4ff\",\"#4b6d77\",\"#00d4b1\",\"#9300f2\",\"#8a9500\",\"#5d5b9e\",\"#fddfba\",\"#00939e\",\"#ffdb00\",\"#00aa79\",\"#520067\",\"#000091\",\"#0a5d3d\",\"#a5e275\",\"#623b41\",\"#c6c689\",\"#ff9eb5\",\"#cd4f6b\",\"#ff07d6\",\"#8a3a05\",\"#7e3d70\",\"#ff4901\",\"#602ba5\",\"#1c00ff\",\"#e6dfff\",\"#aa3baf\",\"#d89c00\",\"#a3a39e\",\"#3f69ff\",\"#46490c\",\"#7b6985\",\"#6b978c\",\"#ff9a75\",\"#835bff\",\"#7c6b46\",\"#80b654\",\"#bc0049\",\"#fd93ff\",\"#5d0018\",\"#89d1d1\",\"#9c8cd3\",\"#da6d42\",\"#8a5700\",\"#3b5069\",\"#4b6b3b\",\"#edcfd8\",\"#cfedff\",\"#aa1500\",\"#dfff4f\",\"#ff2a56\",\"#d1499e\",\"#707cb8\",\"#598000\",\"#00e4fd\",\"#774b95\",\"#67d48c\",\"#3d3a72\",\"#ac413f\",\"#d6a166\",\"#c169cd\",\"#69595d\",\"#87aced\",\"#a0a569\",\"#d1aae6\",\"#870062\",\"#00fddb\",\"#672818\",\"#b342ff\",\"#0e59c4\",\"#168742\",\"#90d300\",\"#cd7900\",\"#f959ff\",\"#5b7466\",\"#8eaeb3\",\"#9c7c8c\",\"#4600c6\",\"#6b4d2d\",\"#a56d46\",\"#9e8972\",\"#a8afca\",\"#cd8ca7\",\"#00fd64\",\"#917900\",\"#ff62a1\",\"#f4ffd8\",\"#018cf0\",\"#13aca0\",\"#5b2d59\",\"#89859e\",\"#cfccba\",\"#d4afc4\",\"#dbdd6d\",\"#cffff4\",\"#006485\",\"#006962\",\"#a84167\",\"#2d97c4\",\"#a874ff\",\"#26ba5d\",\"#57b600\",\"#caffa7\",\"#a379aa\",\"#ffbc93\",\"#89e2c1\",\"#0fc8ff\",\"#d400c4\",\"#626d89\",\"#69858e\",\"#4b4d52\",\"#aa6067\",\"#79b5d4\",\"#2b5916\",\"#9a0024\",\"#bdd1f2\",\"#896e67\",\"#69a56b\",\"#855467\",\"#aecdba\",\"#87997e\",\"#cadb00\",\"#9a0390\",\"#ebbc1a\",\"#eb9cd1\",\"#70006e\",\"#b1a131\",\"#ca6b93\",\"#4146a3\",\"#e48c89\",\"#d44400\",\"#c68aca\",\"#b69597\",\"#d41f75\",\"#724bcc\",\"#674d00\",\"#672138\",\"#38564f\",\"#6ebaaa\",\"#853a31\",\"#a5d397\",\"#b8af8e\",\"#d8e4df\",\"#aa00df\",\"#cac1db\",\"#ffdf8c\",\"#e2524d\",\"#66696e\",\"#ff001c\",\"#522d72\",\"#4d906b\",\"#a86d11\",\"#ff9e26\",\"#5ea3af\",\"#c88556\",\"#915997\",\"#a3a1ff\",\"#fdbaba\",\"#242a87\",\"#dbe6a8\",\"#97f2a7\",\"#6793d6\",\"#ba5b3f\",\"#3a5d91\",\"#364f2f\",\"#267c95\",\"#89959a\",\"#cfb356\",\"#004664\",\"#5e5d2f\",\"#8e8e41\",\"#ac3f13\",\"#69953b\",\"#a13d85\",\"#bfb6ba\",\"#acc667\",\"#6469cf\",\"#91af00\",\"#2be2da\",\"#016e36\",\"#ff7952\",\"#42807e\",\"#4fe800\",\"#995428\",\"#5d0a00\",\"#a30057\",\"#0c8700\",\"#5982a7\",\"#ffebfb\",\"#4b6901\",\"#8775d4\",\"#e6c6ff\",\"#a5ffda\",\"#d86e77\",\"#df014b\",\"#69675b\",\"#776ba1\",\"#7e8067\",\"#594685\",\"#0000ca\",\"#7c002a\",\"#97ff72\",\"#b5e2e1\",\"#db52c8\",\"#777734\",\"#57bd8e\",\"#1f77b3\",\"#ff7e0e\",\"#2ba02b\",\"#d62628\",\"#9367bc\",\"#8c564b\",\"#e277c1\",\"#7e7e7e\",\"#bcbc21\",\"#16bdcf\",\"#3a0182\",\"#004201\",\"#0fffa8\",\"#5d003f\",\"#bcbcff\",\"#d8afa1\",\"#b80080\",\"#004d52\",\"#6b6400\",\"#7c0100\",\"#6026ff\",\"#ffff9a\",\"#564964\",\"#8cb893\",\"#93fbff\",\"#018267\",\"#90ff00\",\"#8200a0\",\"#ac8944\",\"#5b3400\",\"#ffbff2\",\"#ff6e75\",\"#798cff\",\"#dd00ff\",\"#505646\",\"#004489\",\"#ffbf60\",\"#ff018c\",\"#bdc8cf\",\"#af97b5\",\"#b65600\",\"#017000\",\"#cd87ff\",\"#1cd646\",\"#bfebc3\",\"#7997b5\",\"#a56089\",\"#6e8956\",\"#bc7c75\",\"#8a2844\",\"#00acff\",\"#8ed4ff\",\"#4b6d77\",\"#00d4b1\",\"#9300f2\",\"#8a9500\",\"#5d5b9e\",\"#fddfba\",\"#00939e\",\"#ffdb00\",\"#00aa79\",\"#520067\",\"#000091\",\"#0a5d3d\",\"#a5e275\",\"#623b41\",\"#c6c689\",\"#ff9eb5\",\"#cd4f6b\",\"#ff07d6\",\"#8a3a05\",\"#7e3d70\",\"#ff4901\",\"#602ba5\",\"#1c00ff\",\"#e6dfff\",\"#aa3baf\",\"#d89c00\",\"#a3a39e\",\"#3f69ff\",\"#46490c\",\"#7b6985\",\"#6b978c\",\"#ff9a75\",\"#835bff\",\"#7c6b46\",\"#80b654\",\"#bc0049\",\"#fd93ff\",\"#5d0018\",\"#89d1d1\",\"#9c8cd3\",\"#da6d42\",\"#8a5700\",\"#3b5069\",\"#4b6b3b\",\"#edcfd8\",\"#cfedff\",\"#aa1500\",\"#dfff4f\",\"#ff2a56\",\"#d1499e\",\"#707cb8\",\"#598000\",\"#00e4fd\",\"#774b95\",\"#67d48c\",\"#3d3a72\",\"#ac413f\",\"#d6a166\",\"#c169cd\",\"#69595d\",\"#87aced\",\"#a0a569\",\"#d1aae6\",\"#870062\",\"#00fddb\",\"#672818\",\"#b342ff\",\"#0e59c4\",\"#168742\",\"#90d300\",\"#cd7900\",\"#f959ff\",\"#5b7466\",\"#8eaeb3\",\"#9c7c8c\",\"#4600c6\",\"#6b4d2d\",\"#a56d46\",\"#9e8972\",\"#a8afca\",\"#cd8ca7\",\"#00fd64\",\"#917900\",\"#ff62a1\",\"#f4ffd8\",\"#018cf0\",\"#13aca0\",\"#5b2d59\",\"#89859e\",\"#cfccba\",\"#d4afc4\",\"#dbdd6d\",\"#cffff4\",\"#006485\",\"#006962\",\"#a84167\",\"#2d97c4\",\"#a874ff\",\"#26ba5d\",\"#57b600\",\"#caffa7\",\"#a379aa\",\"#ffbc93\",\"#89e2c1\",\"#0fc8ff\",\"#d400c4\",\"#626d89\",\"#69858e\",\"#4b4d52\",\"#aa6067\",\"#79b5d4\",\"#2b5916\",\"#9a0024\",\"#bdd1f2\",\"#896e67\",\"#69a56b\",\"#855467\",\"#aecdba\",\"#87997e\",\"#cadb00\",\"#9a0390\",\"#ebbc1a\",\"#eb9cd1\",\"#70006e\",\"#b1a131\",\"#ca6b93\",\"#4146a3\",\"#e48c89\",\"#d44400\",\"#c68aca\",\"#b69597\",\"#d41f75\",\"#724bcc\",\"#674d00\",\"#672138\",\"#38564f\",\"#6ebaaa\",\"#853a31\",\"#a5d397\",\"#b8af8e\",\"#d8e4df\",\"#aa00df\",\"#cac1db\",\"#ffdf8c\",\"#e2524d\",\"#66696e\",\"#ff001c\",\"#522d72\",\"#4d906b\",\"#a86d11\",\"#ff9e26\",\"#5ea3af\",\"#c88556\",\"#915997\",\"#a3a1ff\",\"#fdbaba\",\"#242a87\",\"#dbe6a8\",\"#97f2a7\",\"#6793d6\",\"#ba5b3f\",\"#3a5d91\",\"#364f2f\",\"#267c95\",\"#89959a\",\"#cfb356\",\"#004664\",\"#5e5d2f\",\"#8e8e41\",\"#ac3f13\",\"#69953b\",\"#a13d85\",\"#bfb6ba\",\"#acc667\",\"#6469cf\",\"#91af00\",\"#2be2da\",\"#016e36\",\"#ff7952\",\"#42807e\",\"#4fe800\",\"#995428\",\"#5d0a00\",\"#a30057\",\"#0c8700\",\"#5982a7\",\"#ffebfb\",\"#4b6901\",\"#8775d4\",\"#e6c6ff\",\"#a5ffda\",\"#d86e77\",\"#df014b\",\"#69675b\",\"#776ba1\",\"#7e8067\",\"#594685\",\"#0000ca\",\"#7c002a\",\"#97ff72\",\"#b5e2e1\",\"#db52c8\",\"#777734\",\"#57bd8e\",\"#1f77b3\",\"#ff7e0e\",\"#2ba02b\",\"#d62628\",\"#9367bc\",\"#8c564b\",\"#e277c1\",\"#7e7e7e\",\"#bcbc21\",\"#16bdcf\",\"#3a0182\",\"#004201\",\"#0fffa8\",\"#5d003f\",\"#bcbcff\",\"#d8afa1\",\"#b80080\",\"#004d52\",\"#6b6400\",\"#7c0100\",\"#6026ff\",\"#ffff9a\",\"#564964\",\"#8cb893\",\"#93fbff\",\"#018267\",\"#90ff00\",\"#8200a0\",\"#ac8944\",\"#5b3400\",\"#ffbff2\",\"#ff6e75\",\"#798cff\",\"#dd00ff\",\"#505646\",\"#004489\",\"#ffbf60\",\"#ff018c\",\"#bdc8cf\",\"#af97b5\",\"#b65600\",\"#017000\",\"#cd87ff\",\"#1cd646\",\"#bfebc3\",\"#7997b5\",\"#a56089\",\"#6e8956\",\"#bc7c75\",\"#8a2844\",\"#00acff\",\"#8ed4ff\",\"#4b6d77\",\"#00d4b1\",\"#9300f2\",\"#8a9500\",\"#5d5b9e\"]},\"id\":\"2025\",\"type\":\"CategoricalColorMapper\"},{\"attributes\":{\"fill_alpha\":{\"value\":0.2},\"fill_color\":{\"field\":\"color\",\"transform\":{\"id\":\"2025\"}},\"hatch_alpha\":{\"value\":0.2},\"hatch_color\":{\"field\":\"color\",\"transform\":{\"id\":\"2025\"}},\"line_alpha\":{\"value\":0.2},\"line_color\":{\"field\":\"color\",\"transform\":{\"id\":\"2025\"}},\"size\":{\"field\":\"size\"},\"x\":{\"field\":\"Lng\"},\"y\":{\"field\":\"Lat\"}},\"id\":\"2033\",\"type\":\"Scatter\"}],\"root_ids\":[\"1949\"]},\"title\":\"Bokeh Application\",\"version\":\"2.4.3\"}};\n",
       "    var render_items = [{\"docid\":\"0a2124a1-5f5d-446e-860d-168b60607b1e\",\"root_ids\":[\"1949\"],\"roots\":{\"1949\":\"2258329b-796c-43ab-939d-3964d5e02912\"}}];\n",
       "    root.Bokeh.embed.embed_items_notebook(docs_json, render_items);\n",
       "  }\n",
       "  if (root.Bokeh !== undefined && root.Bokeh.Panel !== undefined) {\n",
       "    embed_document(root);\n",
       "  } else {\n",
       "    var attempts = 0;\n",
       "    var timer = setInterval(function(root) {\n",
       "      if (root.Bokeh !== undefined && root.Bokeh.Panel !== undefined) {\n",
       "        clearInterval(timer);\n",
       "        embed_document(root);\n",
       "      } else if (document.readyState == \"complete\") {\n",
       "        attempts++;\n",
       "        if (attempts > 200) {\n",
       "          clearInterval(timer);\n",
       "          console.log(\"Bokeh: ERROR: Unable to run BokehJS code because BokehJS library is missing\");\n",
       "        }\n",
       "      }\n",
       "    }, 25, root)\n",
       "  }\n",
       "})(window);</script>"
      ],
      "text/plain": [
       ":Overlay\n",
       "   .Tiles.I  :Tiles   [x,y]\n",
       "   .Points.I :Points   [Lng,Lat]   (City,Humidity)"
      ]
     },
     "execution_count": 25,
     "metadata": {
      "application/vnd.holoviews_exec.v0+json": {
       "id": "1949"
      }
     },
     "output_type": "execute_result"
    }
   ],
   "source": [
    "# Configure the map plot\n",
    "map_plot_1 = city_data_df.hvplot.points(\n",
    "    \"Lng\",\n",
    "    \"Lat\",\n",
    "    geo = True,\n",
    "    tiles = \"OSM\",\n",
    "    frame_width = 600,\n",
    "    frame_height = 500,\n",
    "    size = \"Humidity\",\n",
    "    scale = 1,\n",
    "    color = \"City\"\n",
    ")\n",
    "\n",
    "# Display the map\n",
    "map_plot_1"
   ]
  },
  {
   "cell_type": "markdown",
   "metadata": {},
   "source": [
    "### Step 2: Narrow down the `city_data_df` DataFrame to find your ideal weather condition"
   ]
  },
  {
   "cell_type": "code",
   "execution_count": 26,
   "metadata": {},
   "outputs": [
    {
     "data": {
      "text/html": [
       "<div>\n",
       "<style scoped>\n",
       "    .dataframe tbody tr th:only-of-type {\n",
       "        vertical-align: middle;\n",
       "    }\n",
       "\n",
       "    .dataframe tbody tr th {\n",
       "        vertical-align: top;\n",
       "    }\n",
       "\n",
       "    .dataframe thead th {\n",
       "        text-align: right;\n",
       "    }\n",
       "</style>\n",
       "<table border=\"1\" class=\"dataframe\">\n",
       "  <thead>\n",
       "    <tr style=\"text-align: right;\">\n",
       "      <th></th>\n",
       "      <th>City_ID</th>\n",
       "      <th>City</th>\n",
       "      <th>Lat</th>\n",
       "      <th>Lng</th>\n",
       "      <th>Max Temp</th>\n",
       "      <th>Humidity</th>\n",
       "      <th>Cloudiness</th>\n",
       "      <th>Wind Speed</th>\n",
       "      <th>Country</th>\n",
       "      <th>Date</th>\n",
       "    </tr>\n",
       "  </thead>\n",
       "  <tbody>\n",
       "  </tbody>\n",
       "</table>\n",
       "</div>"
      ],
      "text/plain": [
       "Empty DataFrame\n",
       "Columns: [City_ID, City, Lat, Lng, Max Temp, Humidity, Cloudiness, Wind Speed, Country, Date]\n",
       "Index: []"
      ]
     },
     "execution_count": 26,
     "metadata": {},
     "output_type": "execute_result"
    }
   ],
   "source": [
    "# Narrow down cities that fit criteria and drop any results with null values\n",
    "narrowed_city_df = city_data_df.loc[(city_data_df[\"Max Temp\"]>=21) & (city_data_df[\"Max Temp\"]<=27) & \\\n",
    "                                    (city_data_df[\"Cloudiness\"]==0) & (city_data_df[\"Wind Speed\"]<=4.5),:]\n",
    "\n",
    "# Drop any rows with null values\n",
    "cleaned_city_df = narrowed_city_df.dropna(how=\"any\")\n",
    "\n",
    "# Display sample data\n",
    "cleaned_city_df.head()"
   ]
  },
  {
   "cell_type": "markdown",
   "metadata": {},
   "source": [
    "### Step 3: Create a new DataFrame called `hotel_df`."
   ]
  },
  {
   "cell_type": "code",
   "execution_count": 27,
   "metadata": {},
   "outputs": [
    {
     "data": {
      "text/html": [
       "<div>\n",
       "<style scoped>\n",
       "    .dataframe tbody tr th:only-of-type {\n",
       "        vertical-align: middle;\n",
       "    }\n",
       "\n",
       "    .dataframe tbody tr th {\n",
       "        vertical-align: top;\n",
       "    }\n",
       "\n",
       "    .dataframe thead th {\n",
       "        text-align: right;\n",
       "    }\n",
       "</style>\n",
       "<table border=\"1\" class=\"dataframe\">\n",
       "  <thead>\n",
       "    <tr style=\"text-align: right;\">\n",
       "      <th></th>\n",
       "      <th>City</th>\n",
       "      <th>Country</th>\n",
       "      <th>Lat</th>\n",
       "      <th>Lng</th>\n",
       "      <th>Humidity</th>\n",
       "      <th>Hotel Name</th>\n",
       "    </tr>\n",
       "  </thead>\n",
       "  <tbody>\n",
       "  </tbody>\n",
       "</table>\n",
       "</div>"
      ],
      "text/plain": [
       "Empty DataFrame\n",
       "Columns: [City, Country, Lat, Lng, Humidity, Hotel Name]\n",
       "Index: []"
      ]
     },
     "execution_count": 27,
     "metadata": {},
     "output_type": "execute_result"
    }
   ],
   "source": [
    "# Use the Pandas copy function to create DataFrame called hotel_df to store the city, country, coordinates, and humidity\n",
    "hotel_df = cleaned_city_df[[\"City\",\"Country\",\"Lat\",\"Lng\",\"Humidity\"]].copy()\n",
    "\n",
    "# Add an empty column, \"Hotel Name,\" to the DataFrame so you can store the hotel found using the Geoapify API\n",
    "hotel_df[\"Hotel Name\"] = \"\"\n",
    "\n",
    "# Display sample data\n",
    "hotel_df.head()"
   ]
  },
  {
   "cell_type": "markdown",
   "metadata": {},
   "source": [
    "### Step 4: For each city, use the Geoapify API to find the first hotel located within 10,000 metres of your coordinates."
   ]
  },
  {
   "cell_type": "code",
   "execution_count": 28,
   "metadata": {},
   "outputs": [
    {
     "name": "stdout",
     "output_type": "stream",
     "text": [
      "Starting hotel search\n"
     ]
    },
    {
     "data": {
      "text/html": [
       "<div>\n",
       "<style scoped>\n",
       "    .dataframe tbody tr th:only-of-type {\n",
       "        vertical-align: middle;\n",
       "    }\n",
       "\n",
       "    .dataframe tbody tr th {\n",
       "        vertical-align: top;\n",
       "    }\n",
       "\n",
       "    .dataframe thead th {\n",
       "        text-align: right;\n",
       "    }\n",
       "</style>\n",
       "<table border=\"1\" class=\"dataframe\">\n",
       "  <thead>\n",
       "    <tr style=\"text-align: right;\">\n",
       "      <th></th>\n",
       "      <th>City</th>\n",
       "      <th>Country</th>\n",
       "      <th>Lat</th>\n",
       "      <th>Lng</th>\n",
       "      <th>Humidity</th>\n",
       "      <th>Hotel Name</th>\n",
       "    </tr>\n",
       "  </thead>\n",
       "  <tbody>\n",
       "  </tbody>\n",
       "</table>\n",
       "</div>"
      ],
      "text/plain": [
       "Empty DataFrame\n",
       "Columns: [City, Country, Lat, Lng, Humidity, Hotel Name]\n",
       "Index: []"
      ]
     },
     "execution_count": 28,
     "metadata": {},
     "output_type": "execute_result"
    }
   ],
   "source": [
    "# Set parameters to search for a hotel\n",
    "\n",
    "limit = 20\n",
    "radius = 10000\n",
    "category = \"accommodation.hotel\"\n",
    "\n",
    "params = {\n",
    "    \"limit\":limit,\n",
    "    \"apiKey\":geoapify_key,\n",
    "    \"categories\":category\n",
    "}\n",
    "\n",
    "# Print a message to follow up the hotel search\n",
    "print(\"Starting hotel search\")\n",
    "\n",
    "# Iterate through the hotel_df DataFrame\n",
    "for index, row in hotel_df.iterrows():\n",
    "    # get latitude, longitude from the DataFrame\n",
    "    latitude = hotel_df.loc[index, \"Lat\"]\n",
    "    longitude = hotel_df.loc[index, \"Lng\"]\n",
    "    \n",
    "    # Add filter and bias parameters with the current city's latitude and longitude to the params dictionary\n",
    "    params[\"filter\"] = f\"circle:{longitude},{latitude},{radius}\"\n",
    "    params[\"bias\"] = f\"proximity:{longitude},{latitude}\"\n",
    "    \n",
    "    # Set base URL\n",
    "    base_url = \"https://api.geoapify.com/v2/places\"\n",
    "\n",
    "    # Make and API request using the params dictionaty\n",
    "    name_address = requests.get(base_url, params=params)\n",
    "    \n",
    "    # Convert the API response to JSON format\n",
    "    name_address = name_address.json()\n",
    "    \n",
    "    # Grab the first hotel from the results and store the name in the hotel_df DataFrame\n",
    "    try:\n",
    "        hotel_df.loc[index, \"Hotel Name\"] = name_address[\"features\"][0][\"properties\"][\"name\"]\n",
    "    except (KeyError, IndexError):\n",
    "        # If no hotel is found, set the hotel name as \"No hotel found\".\n",
    "        hotel_df.loc[index, \"Hotel Name\"] = \"No hotel found\"\n",
    "        \n",
    "    # Log the search results\n",
    "    print(f\"{hotel_df.loc[index, 'City']} - nearest hotel: {hotel_df.loc[index, 'Hotel Name']}\")\n",
    "\n",
    "# Display sample data\n",
    "hotel_df"
   ]
  },
  {
   "cell_type": "markdown",
   "metadata": {},
   "source": [
    "### Step 5: Add the hotel name and the country as additional information in the hover message for each city in the map."
   ]
  },
  {
   "cell_type": "code",
   "execution_count": 29,
   "metadata": {},
   "outputs": [
    {
     "data": {},
     "metadata": {},
     "output_type": "display_data"
    },
    {
     "data": {
      "application/vnd.holoviews_exec.v0+json": "",
      "text/html": [
       "<div id='2084'>\n",
       "  <div class=\"bk-root\" id=\"5519aee0-b769-49e3-a13a-c3f6201880b2\" data-root-id=\"2084\"></div>\n",
       "</div>\n",
       "<script type=\"application/javascript\">(function(root) {\n",
       "  function embed_document(root) {\n",
       "    var docs_json = {\"5d182534-e4f0-4e01-b782-3537a93d3562\":{\"defs\":[{\"extends\":null,\"module\":null,\"name\":\"ReactiveHTML1\",\"overrides\":[],\"properties\":[]},{\"extends\":null,\"module\":null,\"name\":\"FlexBox1\",\"overrides\":[],\"properties\":[{\"default\":\"flex-start\",\"kind\":null,\"name\":\"align_content\"},{\"default\":\"flex-start\",\"kind\":null,\"name\":\"align_items\"},{\"default\":\"row\",\"kind\":null,\"name\":\"flex_direction\"},{\"default\":\"wrap\",\"kind\":null,\"name\":\"flex_wrap\"},{\"default\":\"flex-start\",\"kind\":null,\"name\":\"justify_content\"}]},{\"extends\":null,\"module\":null,\"name\":\"GridStack1\",\"overrides\":[],\"properties\":[{\"default\":\"warn\",\"kind\":null,\"name\":\"mode\"},{\"default\":null,\"kind\":null,\"name\":\"ncols\"},{\"default\":null,\"kind\":null,\"name\":\"nrows\"},{\"default\":true,\"kind\":null,\"name\":\"allow_resize\"},{\"default\":true,\"kind\":null,\"name\":\"allow_drag\"},{\"default\":[],\"kind\":null,\"name\":\"state\"}]},{\"extends\":null,\"module\":null,\"name\":\"click1\",\"overrides\":[],\"properties\":[{\"default\":\"\",\"kind\":null,\"name\":\"terminal_output\"},{\"default\":\"\",\"kind\":null,\"name\":\"debug_name\"},{\"default\":0,\"kind\":null,\"name\":\"clears\"}]},{\"extends\":null,\"module\":null,\"name\":\"NotificationAreaBase1\",\"overrides\":[],\"properties\":[{\"default\":\"bottom-right\",\"kind\":null,\"name\":\"position\"},{\"default\":0,\"kind\":null,\"name\":\"_clear\"}]},{\"extends\":null,\"module\":null,\"name\":\"NotificationArea1\",\"overrides\":[],\"properties\":[{\"default\":[],\"kind\":null,\"name\":\"notifications\"},{\"default\":\"bottom-right\",\"kind\":null,\"name\":\"position\"},{\"default\":0,\"kind\":null,\"name\":\"_clear\"},{\"default\":[{\"background\":\"#ffc107\",\"icon\":{\"className\":\"fas fa-exclamation-triangle\",\"color\":\"white\",\"tagName\":\"i\"},\"type\":\"warning\"},{\"background\":\"#007bff\",\"icon\":{\"className\":\"fas fa-info-circle\",\"color\":\"white\",\"tagName\":\"i\"},\"type\":\"info\"}],\"kind\":null,\"name\":\"types\"}]},{\"extends\":null,\"module\":null,\"name\":\"Notification\",\"overrides\":[],\"properties\":[{\"default\":null,\"kind\":null,\"name\":\"background\"},{\"default\":3000,\"kind\":null,\"name\":\"duration\"},{\"default\":null,\"kind\":null,\"name\":\"icon\"},{\"default\":\"\",\"kind\":null,\"name\":\"message\"},{\"default\":null,\"kind\":null,\"name\":\"notification_type\"},{\"default\":false,\"kind\":null,\"name\":\"_destroyed\"}]},{\"extends\":null,\"module\":null,\"name\":\"TemplateActions1\",\"overrides\":[],\"properties\":[{\"default\":0,\"kind\":null,\"name\":\"open_modal\"},{\"default\":0,\"kind\":null,\"name\":\"close_modal\"}]},{\"extends\":null,\"module\":null,\"name\":\"MaterialTemplateActions1\",\"overrides\":[],\"properties\":[{\"default\":0,\"kind\":null,\"name\":\"open_modal\"},{\"default\":0,\"kind\":null,\"name\":\"close_modal\"}]}],\"roots\":{\"references\":[{\"attributes\":{\"axis\":{\"id\":\"2110\"},\"coordinates\":null,\"dimension\":1,\"grid_line_color\":null,\"group\":null,\"ticker\":null},\"id\":\"2113\",\"type\":\"Grid\"},{\"attributes\":{},\"id\":\"2114\",\"type\":\"SaveTool\"},{\"attributes\":{\"attribution\":\"&copy; <a href=\\\"https://www.openstreetmap.org/copyright\\\">OpenStreetMap</a> contributors\",\"url\":\"https://c.tile.openstreetmap.org/{Z}/{X}/{Y}.png\"},\"id\":\"2155\",\"type\":\"WMTSTileSource\"},{\"attributes\":{\"margin\":[5,5,5,5],\"name\":\"HSpacer02709\",\"sizing_mode\":\"stretch_width\"},\"id\":\"2178\",\"type\":\"Spacer\"},{\"attributes\":{\"below\":[{\"id\":\"2106\"}],\"center\":[{\"id\":\"2109\"},{\"id\":\"2113\"}],\"frame_height\":500,\"frame_width\":600,\"height\":null,\"left\":[{\"id\":\"2110\"}],\"margin\":[5,5,5,5],\"match_aspect\":true,\"min_border_bottom\":10,\"min_border_left\":10,\"min_border_right\":10,\"min_border_top\":10,\"renderers\":[{\"id\":\"2158\"},{\"id\":\"2168\"}],\"sizing_mode\":\"fixed\",\"title\":{\"id\":\"2098\"},\"toolbar\":{\"id\":\"2120\"},\"width\":null,\"x_range\":{\"id\":\"2090\"},\"x_scale\":{\"id\":\"2102\"},\"y_range\":{\"id\":\"2091\"},\"y_scale\":{\"id\":\"2104\"}},\"id\":\"2097\",\"subtype\":\"Figure\",\"type\":\"Plot\"},{\"attributes\":{\"bottom_units\":\"screen\",\"coordinates\":null,\"fill_alpha\":0.5,\"fill_color\":\"lightgrey\",\"group\":null,\"left_units\":\"screen\",\"level\":\"overlay\",\"line_alpha\":1.0,\"line_color\":\"black\",\"line_dash\":[4,4],\"line_width\":2,\"right_units\":\"screen\",\"syncable\":false,\"top_units\":\"screen\"},\"id\":\"2119\",\"type\":\"BoxAnnotation\"},{\"attributes\":{},\"id\":\"2135\",\"type\":\"AllLabels\"},{\"attributes\":{\"callback\":null,\"formatters\":{\"$x\":{\"id\":\"2170\"},\"$y\":{\"id\":\"2171\"}},\"renderers\":[{\"id\":\"2168\"}],\"tags\":[\"hv_created\"],\"tooltips\":[[\"Lng\",\"$x{custom}\"],[\"Lat\",\"$y{custom}\"],[\"City\",\"@{City}\"],[\"Humidity\",\"@{Humidity}\"],[\"Hotel Name\",\"@{Hotel_Name}\"],[\"Country\",\"@{Country}\"]]},\"id\":\"2094\",\"type\":\"HoverTool\"},{\"attributes\":{\"axis\":{\"id\":\"2106\"},\"coordinates\":null,\"grid_line_color\":null,\"group\":null,\"ticker\":null},\"id\":\"2109\",\"type\":\"Grid\"},{\"attributes\":{\"dimension\":\"lon\"},\"id\":\"2129\",\"type\":\"MercatorTicker\"},{\"attributes\":{\"tools\":[{\"id\":\"2094\"},{\"id\":\"2114\"},{\"id\":\"2115\"},{\"id\":\"2116\"},{\"id\":\"2117\"},{\"id\":\"2118\"}]},\"id\":\"2120\",\"type\":\"Toolbar\"},{\"attributes\":{\"coordinates\":null,\"group\":null,\"level\":\"glyph\",\"tile_source\":{\"id\":\"2155\"}},\"id\":\"2158\",\"type\":\"TileRenderer\"},{\"attributes\":{\"min_interval\":5,\"start\":3.0,\"tags\":[[[\"Lat\",\"Lat\",null]]]},\"id\":\"2091\",\"type\":\"Range1d\"},{\"attributes\":{\"min_interval\":5,\"start\":3.0,\"tags\":[[[\"Lng\",\"Lng\",null]]]},\"id\":\"2090\",\"type\":\"Range1d\"},{\"attributes\":{\"children\":[{\"id\":\"2085\"},{\"id\":\"2097\"},{\"id\":\"2178\"}],\"margin\":[0,0,0,0],\"name\":\"Row02704\",\"tags\":[\"embedded\"]},\"id\":\"2084\",\"type\":\"Row\"},{\"attributes\":{\"axis_label\":\"x\",\"coordinates\":null,\"formatter\":{\"id\":\"2130\"},\"group\":null,\"major_label_policy\":{\"id\":\"2135\"},\"ticker\":{\"id\":\"2129\"}},\"id\":\"2106\",\"type\":\"LinearAxis\"},{\"attributes\":{\"coordinates\":null,\"group\":null,\"text_color\":\"black\",\"text_font_size\":\"12pt\"},\"id\":\"2098\",\"type\":\"Title\"},{\"attributes\":{},\"id\":\"2175\",\"type\":\"UnionRenderers\"},{\"attributes\":{},\"id\":\"2118\",\"type\":\"ResetTool\"},{\"attributes\":{\"data\":{\"City\":[],\"Country\":[],\"Hotel_Name\":[],\"Humidity\":[],\"Lat\":{\"__ndarray__\":\"\",\"dtype\":\"float64\",\"order\":\"little\",\"shape\":[0]},\"Lng\":{\"__ndarray__\":\"\",\"dtype\":\"float64\",\"order\":\"little\",\"shape\":[0]},\"color\":[],\"size\":{\"__ndarray__\":\"\",\"dtype\":\"float64\",\"order\":\"little\",\"shape\":[0]}},\"selected\":{\"id\":\"2161\"},\"selection_policy\":{\"id\":\"2175\"}},\"id\":\"2160\",\"type\":\"ColumnDataSource\"},{\"attributes\":{},\"id\":\"2142\",\"type\":\"AllLabels\"},{\"attributes\":{\"code\":\"\\n        var projections = Bokeh.require(\\\"core/util/projections\\\");\\n        var x = special_vars.data_x\\n        var y = special_vars.data_y\\n        var coords = projections.wgs84_mercator.invert(x, y)\\n        return \\\"\\\" + (coords[1]).toFixed(4)\\n    \"},\"id\":\"2171\",\"type\":\"CustomJSHover\"},{\"attributes\":{\"source\":{\"id\":\"2160\"}},\"id\":\"2169\",\"type\":\"CDSView\"},{\"attributes\":{\"fill_alpha\":{\"value\":0.2},\"fill_color\":{\"field\":\"color\"},\"hatch_alpha\":{\"value\":0.2},\"hatch_color\":{\"field\":\"color\"},\"line_alpha\":{\"value\":0.2},\"line_color\":{\"field\":\"color\"},\"size\":{\"field\":\"size\"},\"x\":{\"field\":\"Lng\"},\"y\":{\"field\":\"Lat\"}},\"id\":\"2167\",\"type\":\"Scatter\"},{\"attributes\":{\"margin\":[5,5,5,5],\"name\":\"HSpacer02708\",\"sizing_mode\":\"stretch_width\"},\"id\":\"2085\",\"type\":\"Spacer\"},{\"attributes\":{\"dimension\":\"lat\"},\"id\":\"2131\",\"type\":\"MercatorTicker\"},{\"attributes\":{\"coordinates\":null,\"data_source\":{\"id\":\"2160\"},\"glyph\":{\"id\":\"2163\"},\"group\":null,\"hover_glyph\":{\"id\":\"2166\"},\"muted_glyph\":{\"id\":\"2167\"},\"nonselection_glyph\":{\"id\":\"2164\"},\"selection_glyph\":{\"id\":\"2165\"},\"view\":{\"id\":\"2169\"}},\"id\":\"2168\",\"type\":\"GlyphRenderer\"},{\"attributes\":{},\"id\":\"2104\",\"type\":\"LinearScale\"},{\"attributes\":{},\"id\":\"2161\",\"type\":\"Selection\"},{\"attributes\":{\"fill_alpha\":{\"value\":0.1},\"fill_color\":{\"field\":\"color\"},\"hatch_alpha\":{\"value\":0.1},\"hatch_color\":{\"field\":\"color\"},\"line_alpha\":{\"value\":0.1},\"line_color\":{\"field\":\"color\"},\"size\":{\"field\":\"size\"},\"x\":{\"field\":\"Lng\"},\"y\":{\"field\":\"Lat\"}},\"id\":\"2164\",\"type\":\"Scatter\"},{\"attributes\":{},\"id\":\"2115\",\"type\":\"PanTool\"},{\"attributes\":{\"fill_color\":{\"field\":\"color\"},\"hatch_color\":{\"field\":\"color\"},\"line_color\":{\"field\":\"color\"},\"size\":{\"field\":\"size\"},\"x\":{\"field\":\"Lng\"},\"y\":{\"field\":\"Lat\"}},\"id\":\"2165\",\"type\":\"Scatter\"},{\"attributes\":{\"match_aspect\":true,\"overlay\":{\"id\":\"2119\"}},\"id\":\"2117\",\"type\":\"BoxZoomTool\"},{\"attributes\":{\"axis_label\":\"y\",\"coordinates\":null,\"formatter\":{\"id\":\"2132\"},\"group\":null,\"major_label_policy\":{\"id\":\"2142\"},\"ticker\":{\"id\":\"2131\"}},\"id\":\"2110\",\"type\":\"LinearAxis\"},{\"attributes\":{\"dimension\":\"lat\"},\"id\":\"2132\",\"type\":\"MercatorTickFormatter\"},{\"attributes\":{\"fill_color\":{\"field\":\"color\"},\"hatch_color\":{\"field\":\"color\"},\"line_color\":{\"field\":\"color\"},\"size\":{\"field\":\"size\"},\"x\":{\"field\":\"Lng\"},\"y\":{\"field\":\"Lat\"}},\"id\":\"2163\",\"type\":\"Scatter\"},{\"attributes\":{\"zoom_on_axis\":false},\"id\":\"2116\",\"type\":\"WheelZoomTool\"},{\"attributes\":{\"code\":\"\\n        var projections = Bokeh.require(\\\"core/util/projections\\\");\\n        var x = special_vars.data_x\\n        var y = special_vars.data_y\\n        var coords = projections.wgs84_mercator.invert(x, y)\\n        return \\\"\\\" + (coords[0]).toFixed(4)\\n    \"},\"id\":\"2170\",\"type\":\"CustomJSHover\"},{\"attributes\":{\"dimension\":\"lon\"},\"id\":\"2130\",\"type\":\"MercatorTickFormatter\"},{\"attributes\":{\"fill_color\":{\"field\":\"color\"},\"hatch_color\":{\"field\":\"color\"},\"line_color\":{\"field\":\"color\"},\"size\":{\"field\":\"size\"},\"x\":{\"field\":\"Lng\"},\"y\":{\"field\":\"Lat\"}},\"id\":\"2166\",\"type\":\"Scatter\"},{\"attributes\":{},\"id\":\"2102\",\"type\":\"LinearScale\"}],\"root_ids\":[\"2084\"]},\"title\":\"Bokeh Application\",\"version\":\"2.4.3\"}};\n",
       "    var render_items = [{\"docid\":\"5d182534-e4f0-4e01-b782-3537a93d3562\",\"root_ids\":[\"2084\"],\"roots\":{\"2084\":\"5519aee0-b769-49e3-a13a-c3f6201880b2\"}}];\n",
       "    root.Bokeh.embed.embed_items_notebook(docs_json, render_items);\n",
       "  }\n",
       "  if (root.Bokeh !== undefined && root.Bokeh.Panel !== undefined) {\n",
       "    embed_document(root);\n",
       "  } else {\n",
       "    var attempts = 0;\n",
       "    var timer = setInterval(function(root) {\n",
       "      if (root.Bokeh !== undefined && root.Bokeh.Panel !== undefined) {\n",
       "        clearInterval(timer);\n",
       "        embed_document(root);\n",
       "      } else if (document.readyState == \"complete\") {\n",
       "        attempts++;\n",
       "        if (attempts > 200) {\n",
       "          clearInterval(timer);\n",
       "          console.log(\"Bokeh: ERROR: Unable to run BokehJS code because BokehJS library is missing\");\n",
       "        }\n",
       "      }\n",
       "    }, 25, root)\n",
       "  }\n",
       "})(window);</script>"
      ],
      "text/plain": [
       ":Overlay\n",
       "   .Tiles.I  :Tiles   [x,y]\n",
       "   .Points.I :Points   [Lng,Lat]   (City,Humidity,Hotel Name,Country)"
      ]
     },
     "execution_count": 29,
     "metadata": {
      "application/vnd.holoviews_exec.v0+json": {
       "id": "2084"
      }
     },
     "output_type": "execute_result"
    }
   ],
   "source": [
    "# Configure the map plot\n",
    "map_plot_2 = hotel_df.hvplot.points(\n",
    "    \"Lng\",\n",
    "    \"Lat\",\n",
    "    geo = True,\n",
    "    tiles = \"OSM\",\n",
    "    frame_width = 600,\n",
    "    frame_height = 500,\n",
    "    size = \"Humidity\",\n",
    "    scale = 1,\n",
    "    color = \"City\",\n",
    "    hover_cols = [\"Hotel Name\", \"Country\"]\n",
    ")\n",
    "\n",
    "# Display the map\n",
    "map_plot_2"
   ]
  },
  {
   "cell_type": "code",
   "execution_count": null,
   "metadata": {},
   "outputs": [],
   "source": []
  }
 ],
 "metadata": {
  "kernelspec": {
   "display_name": "Python 3.9.13 ('base')",
   "language": "python",
   "name": "python3"
  },
  "language_info": {
   "codemirror_mode": {
    "name": "ipython",
    "version": 3
   },
   "file_extension": ".py",
   "mimetype": "text/x-python",
   "name": "python",
   "nbconvert_exporter": "python",
   "pygments_lexer": "ipython3",
   "version": "3.9.13"
  },
  "latex_envs": {
   "LaTeX_envs_menu_present": true,
   "autoclose": false,
   "autocomplete": true,
   "bibliofile": "biblio.bib",
   "cite_by": "apalike",
   "current_citInitial": 1,
   "eqLabelWithNumbers": true,
   "eqNumInitial": 1,
   "hotkeys": {
    "equation": "Ctrl-E",
    "itemize": "Ctrl-I"
   },
   "labels_anchors": false,
   "latex_user_defs": false,
   "report_style_numbering": false,
   "user_envs_cfg": false
  },
  "vscode": {
   "interpreter": {
    "hash": "bdf2d604cb93976e1c57d98e37bdc591b436962b7bfe0cb5885ff062c43511ab"
   }
  }
 },
 "nbformat": 4,
 "nbformat_minor": 4
}
